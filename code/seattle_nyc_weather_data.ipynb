{
  "cells": [
    {
      "cell_type": "markdown",
      "metadata": {},
      "source": [
        " <center>  <h2> Comparative Analysis of Precipitation – Seattle vs New York City\n"
      ]
    },
    {
      "cell_type": "markdown",
      "metadata": {},
      "source": [
        "### Introduction:</br>\n",
        "Seattle, Washington, and New York City, New York, represent two distinct climatic regions of the United States. Seattle is located in the Pacific Northwest, near Puget Sound and the Cascade Mountain Range, which influences its temperate marine climate. The city is well known for its frequent light rain , with mild, wet winters and relatively dry summers.\n",
        "\n",
        "In contrast, New York City is situated on the northeastern Atlantic coast and has a humid subtropical climate. It experiences hot, humid summers and cold winters, with a wider range of temperatures and weather patterns throughout the year. Rainfall in New York City tends to occur as heavier and more intense downpours and thunderstorms.\n",
        "\n",
        "This analysis aims to determine whether Seattle truly receives more rainfall than New York City in terms of overall precipitation and frequency of days with rainfall. By comparing daily precipitation data from both locations, we will explore the differences in rainfall frequency and total precipitation amounts using the data science methodologies."
      ]
    },
    {
      "cell_type": "markdown",
      "metadata": {},
      "source": [
        "### Data Description\n",
        "Precipitation data is downloaded from NOAA's Climate Data Online Search tool for Seattle and NYC from the dates Jan 1 2018 to Dec 31 2022.</br>\n",
        "\n",
        " **Source:** \n",
        " 1. National Oceanic and Atmospheric Administration (NOAA) </br>\n",
        " 2. Global Historical Climatology Network Daily (GHCND) </br>\n",
        "\n",
        " **Links:**</br>\n",
        "  https://www.ncei.noaa.gov/cdo-web/search?datasetid=GHCND</br>\n",
        "  https://www.ncei.noaa.gov/data/daily-summaries/doc/GHCND_documentation.pdf</br>\n",
        "\n",
        "  The GHCND dataset typically includes:\n",
        "- **Station**\n",
        "- **Date** of observation  \n",
        "- **Precipitation (PRCP)** — measured in tenths of millimeters  \n",
        "- **Temperature (TMAX, TMIN)**  \n",
        "- **Snowfall (SNOW)** and **Snow Depth (SNWD)**\n",
        "\n",
        "**Stations Selected:**\n",
        "- **Seattle, WA:** Seattle–Tacoma International Airport (Station ID: `USW00024233`)  \n",
        "- **New York City, NY:** John F. Kennedy International Airport (Station ID: `USW00094789`)  \n",
        "\n",
        "The raw CSV files for each city were downloaded using NOAA’s filtered for the years **2018–2022**.\n",
        "The data was processed to standardize date formats, remove unnecessary columns, and rename the remaining columns for clarity. The two city datasets were then combined into a single DataFrame, and missing values were handled appropriately. This cleaned and consolidated dataset was used for the comparative rainfall analysis between Seattle and New York City.\n",
        "\n"
      ]
    },
    {
      "cell_type": "markdown",
      "metadata": {},
      "source": [
        "### Data Cleaning and Preprocessing"
      ]
    },
    {
      "cell_type": "markdown",
      "metadata": {
        "id": "dwvtDMCYlPus"
      },
      "source": [
        "#### Import libraries"
      ]
    },
    {
      "cell_type": "code",
      "execution_count": 57,
      "metadata": {
        "id": "DQZAzYri_ru5"
      },
      "outputs": [],
      "source": [
        "# Import pandas, numpy, and matplotlib\n",
        "import pandas as pd\n",
        "import numpy as np\n",
        "import matplotlib.pyplot as plt\n",
        "from datetime import date\n",
        "\n",
        "# seaborn is a data visualization library built on matplotlib\n",
        "import seaborn as sns\n",
        "\n",
        "# set the plotting style\n",
        "sns.set_style('whitegrid')"
      ]
    },
    {
      "cell_type": "markdown",
      "metadata": {
        "id": "5qccuG8vy7Ja"
      },
      "source": [
        "#### Load the datasets for each of the cities:"
      ]
    },
    {
      "cell_type": "markdown",
      "metadata": {
        "id": "xYdcJWUhIc8U"
      },
      "source": [
        "#### Seattle data set"
      ]
    },
    {
      "cell_type": "code",
      "execution_count": 58,
      "metadata": {},
      "outputs": [],
      "source": [
        "df_seattle = pd.read_csv('../data/seattle_rain.csv')\n"
      ]
    },
    {
      "cell_type": "markdown",
      "metadata": {
        "id": "YI_VqZ2-JI2_"
      },
      "source": [
        "#### NYC data set"
      ]
    },
    {
      "cell_type": "code",
      "execution_count": 59,
      "metadata": {},
      "outputs": [],
      "source": [
        "df_nyc = pd.read_csv('../data/nyc_rain.csv')\n"
      ]
    },
    {
      "cell_type": "markdown",
      "metadata": {
        "id": "OHVSgzXFd4nf"
      },
      "source": [
        "#### We now explore contents of the data sets. We start by looking at the head of each dataframes.This will let us see the names of the columns and few values for each of the columns"
      ]
    },
    {
      "cell_type": "code",
      "execution_count": 60,
      "metadata": {},
      "outputs": [
        {
          "data": {
            "text/html": [
              "<div>\n",
              "<style scoped>\n",
              "    .dataframe tbody tr th:only-of-type {\n",
              "        vertical-align: middle;\n",
              "    }\n",
              "\n",
              "    .dataframe tbody tr th {\n",
              "        vertical-align: top;\n",
              "    }\n",
              "\n",
              "    .dataframe thead th {\n",
              "        text-align: right;\n",
              "    }\n",
              "</style>\n",
              "<table border=\"1\" class=\"dataframe\">\n",
              "  <thead>\n",
              "    <tr style=\"text-align: right;\">\n",
              "      <th></th>\n",
              "      <th>STATION</th>\n",
              "      <th>NAME</th>\n",
              "      <th>DATE</th>\n",
              "      <th>DAPR</th>\n",
              "      <th>MDPR</th>\n",
              "      <th>PRCP</th>\n",
              "      <th>SNOW</th>\n",
              "      <th>SNWD</th>\n",
              "      <th>WESD</th>\n",
              "      <th>WESF</th>\n",
              "    </tr>\n",
              "  </thead>\n",
              "  <tbody>\n",
              "    <tr>\n",
              "      <th>0</th>\n",
              "      <td>US1WAKG0225</td>\n",
              "      <td>SEATTLE 2.1 ESE, WA US</td>\n",
              "      <td>1/1/18</td>\n",
              "      <td>NaN</td>\n",
              "      <td>NaN</td>\n",
              "      <td>0.00</td>\n",
              "      <td>NaN</td>\n",
              "      <td>NaN</td>\n",
              "      <td>NaN</td>\n",
              "      <td>NaN</td>\n",
              "    </tr>\n",
              "    <tr>\n",
              "      <th>1</th>\n",
              "      <td>US1WAKG0225</td>\n",
              "      <td>SEATTLE 2.1 ESE, WA US</td>\n",
              "      <td>1/2/18</td>\n",
              "      <td>NaN</td>\n",
              "      <td>NaN</td>\n",
              "      <td>0.00</td>\n",
              "      <td>NaN</td>\n",
              "      <td>NaN</td>\n",
              "      <td>NaN</td>\n",
              "      <td>NaN</td>\n",
              "    </tr>\n",
              "    <tr>\n",
              "      <th>2</th>\n",
              "      <td>US1WAKG0225</td>\n",
              "      <td>SEATTLE 2.1 ESE, WA US</td>\n",
              "      <td>1/3/18</td>\n",
              "      <td>NaN</td>\n",
              "      <td>NaN</td>\n",
              "      <td>0.00</td>\n",
              "      <td>NaN</td>\n",
              "      <td>NaN</td>\n",
              "      <td>NaN</td>\n",
              "      <td>NaN</td>\n",
              "    </tr>\n",
              "    <tr>\n",
              "      <th>3</th>\n",
              "      <td>US1WAKG0225</td>\n",
              "      <td>SEATTLE 2.1 ESE, WA US</td>\n",
              "      <td>1/4/18</td>\n",
              "      <td>NaN</td>\n",
              "      <td>NaN</td>\n",
              "      <td>0.00</td>\n",
              "      <td>NaN</td>\n",
              "      <td>NaN</td>\n",
              "      <td>NaN</td>\n",
              "      <td>NaN</td>\n",
              "    </tr>\n",
              "    <tr>\n",
              "      <th>4</th>\n",
              "      <td>US1WAKG0225</td>\n",
              "      <td>SEATTLE 2.1 ESE, WA US</td>\n",
              "      <td>1/5/18</td>\n",
              "      <td>NaN</td>\n",
              "      <td>NaN</td>\n",
              "      <td>0.25</td>\n",
              "      <td>NaN</td>\n",
              "      <td>NaN</td>\n",
              "      <td>NaN</td>\n",
              "      <td>NaN</td>\n",
              "    </tr>\n",
              "  </tbody>\n",
              "</table>\n",
              "</div>"
            ],
            "text/plain": [
              "       STATION                    NAME    DATE  DAPR  MDPR  PRCP  SNOW  SNWD  \\\n",
              "0  US1WAKG0225  SEATTLE 2.1 ESE, WA US  1/1/18   NaN   NaN  0.00   NaN   NaN   \n",
              "1  US1WAKG0225  SEATTLE 2.1 ESE, WA US  1/2/18   NaN   NaN  0.00   NaN   NaN   \n",
              "2  US1WAKG0225  SEATTLE 2.1 ESE, WA US  1/3/18   NaN   NaN  0.00   NaN   NaN   \n",
              "3  US1WAKG0225  SEATTLE 2.1 ESE, WA US  1/4/18   NaN   NaN  0.00   NaN   NaN   \n",
              "4  US1WAKG0225  SEATTLE 2.1 ESE, WA US  1/5/18   NaN   NaN  0.25   NaN   NaN   \n",
              "\n",
              "   WESD  WESF  \n",
              "0   NaN   NaN  \n",
              "1   NaN   NaN  \n",
              "2   NaN   NaN  \n",
              "3   NaN   NaN  \n",
              "4   NaN   NaN  "
            ]
          },
          "execution_count": 60,
          "metadata": {},
          "output_type": "execute_result"
        }
      ],
      "source": [
        "df_seattle.head()"
      ]
    },
    {
      "cell_type": "code",
      "execution_count": 61,
      "metadata": {},
      "outputs": [
        {
          "data": {
            "text/html": [
              "<div>\n",
              "<style scoped>\n",
              "    .dataframe tbody tr th:only-of-type {\n",
              "        vertical-align: middle;\n",
              "    }\n",
              "\n",
              "    .dataframe tbody tr th {\n",
              "        vertical-align: top;\n",
              "    }\n",
              "\n",
              "    .dataframe thead th {\n",
              "        text-align: right;\n",
              "    }\n",
              "</style>\n",
              "<table border=\"1\" class=\"dataframe\">\n",
              "  <thead>\n",
              "    <tr style=\"text-align: right;\">\n",
              "      <th></th>\n",
              "      <th>STATION</th>\n",
              "      <th>NAME</th>\n",
              "      <th>DATE</th>\n",
              "      <th>AWND</th>\n",
              "      <th>PGTM</th>\n",
              "      <th>PRCP</th>\n",
              "      <th>SNOW</th>\n",
              "      <th>SNWD</th>\n",
              "      <th>TAVG</th>\n",
              "      <th>TMAX</th>\n",
              "      <th>...</th>\n",
              "      <th>WSF2</th>\n",
              "      <th>WSF5</th>\n",
              "      <th>WT01</th>\n",
              "      <th>WT02</th>\n",
              "      <th>WT03</th>\n",
              "      <th>WT04</th>\n",
              "      <th>WT05</th>\n",
              "      <th>WT06</th>\n",
              "      <th>WT08</th>\n",
              "      <th>WT09</th>\n",
              "    </tr>\n",
              "  </thead>\n",
              "  <tbody>\n",
              "    <tr>\n",
              "      <th>0</th>\n",
              "      <td>USW00094789</td>\n",
              "      <td>JFK INTERNATIONAL AIRPORT, NY US</td>\n",
              "      <td>2018-01-01</td>\n",
              "      <td>17.67</td>\n",
              "      <td>NaN</td>\n",
              "      <td>0.00</td>\n",
              "      <td>0.0</td>\n",
              "      <td>0.0</td>\n",
              "      <td>12</td>\n",
              "      <td>18</td>\n",
              "      <td>...</td>\n",
              "      <td>29.1</td>\n",
              "      <td>34.0</td>\n",
              "      <td>NaN</td>\n",
              "      <td>NaN</td>\n",
              "      <td>NaN</td>\n",
              "      <td>NaN</td>\n",
              "      <td>NaN</td>\n",
              "      <td>NaN</td>\n",
              "      <td>NaN</td>\n",
              "      <td>NaN</td>\n",
              "    </tr>\n",
              "    <tr>\n",
              "      <th>1</th>\n",
              "      <td>USW00094789</td>\n",
              "      <td>JFK INTERNATIONAL AIRPORT, NY US</td>\n",
              "      <td>2018-01-02</td>\n",
              "      <td>15.66</td>\n",
              "      <td>NaN</td>\n",
              "      <td>0.00</td>\n",
              "      <td>0.0</td>\n",
              "      <td>0.0</td>\n",
              "      <td>18</td>\n",
              "      <td>26</td>\n",
              "      <td>...</td>\n",
              "      <td>23.0</td>\n",
              "      <td>29.1</td>\n",
              "      <td>NaN</td>\n",
              "      <td>NaN</td>\n",
              "      <td>NaN</td>\n",
              "      <td>NaN</td>\n",
              "      <td>NaN</td>\n",
              "      <td>NaN</td>\n",
              "      <td>NaN</td>\n",
              "      <td>NaN</td>\n",
              "    </tr>\n",
              "    <tr>\n",
              "      <th>2</th>\n",
              "      <td>USW00094789</td>\n",
              "      <td>JFK INTERNATIONAL AIRPORT, NY US</td>\n",
              "      <td>2018-01-03</td>\n",
              "      <td>8.28</td>\n",
              "      <td>NaN</td>\n",
              "      <td>0.00</td>\n",
              "      <td>0.0</td>\n",
              "      <td>0.0</td>\n",
              "      <td>21</td>\n",
              "      <td>28</td>\n",
              "      <td>...</td>\n",
              "      <td>19.9</td>\n",
              "      <td>23.0</td>\n",
              "      <td>NaN</td>\n",
              "      <td>NaN</td>\n",
              "      <td>NaN</td>\n",
              "      <td>NaN</td>\n",
              "      <td>NaN</td>\n",
              "      <td>NaN</td>\n",
              "      <td>NaN</td>\n",
              "      <td>NaN</td>\n",
              "    </tr>\n",
              "    <tr>\n",
              "      <th>3</th>\n",
              "      <td>USW00094789</td>\n",
              "      <td>JFK INTERNATIONAL AIRPORT, NY US</td>\n",
              "      <td>2018-01-04</td>\n",
              "      <td>28.19</td>\n",
              "      <td>NaN</td>\n",
              "      <td>0.49</td>\n",
              "      <td>8.0</td>\n",
              "      <td>1.2</td>\n",
              "      <td>25</td>\n",
              "      <td>29</td>\n",
              "      <td>...</td>\n",
              "      <td>44.1</td>\n",
              "      <td>55.0</td>\n",
              "      <td>1.0</td>\n",
              "      <td>1.0</td>\n",
              "      <td>NaN</td>\n",
              "      <td>NaN</td>\n",
              "      <td>NaN</td>\n",
              "      <td>NaN</td>\n",
              "      <td>NaN</td>\n",
              "      <td>1.0</td>\n",
              "    </tr>\n",
              "    <tr>\n",
              "      <th>4</th>\n",
              "      <td>USW00094789</td>\n",
              "      <td>JFK INTERNATIONAL AIRPORT, NY US</td>\n",
              "      <td>2018-01-05</td>\n",
              "      <td>25.05</td>\n",
              "      <td>NaN</td>\n",
              "      <td>0.00</td>\n",
              "      <td>0.0</td>\n",
              "      <td>7.9</td>\n",
              "      <td>15</td>\n",
              "      <td>19</td>\n",
              "      <td>...</td>\n",
              "      <td>36.0</td>\n",
              "      <td>46.1</td>\n",
              "      <td>NaN</td>\n",
              "      <td>NaN</td>\n",
              "      <td>NaN</td>\n",
              "      <td>NaN</td>\n",
              "      <td>NaN</td>\n",
              "      <td>NaN</td>\n",
              "      <td>NaN</td>\n",
              "      <td>1.0</td>\n",
              "    </tr>\n",
              "  </tbody>\n",
              "</table>\n",
              "<p>5 rows × 23 columns</p>\n",
              "</div>"
            ],
            "text/plain": [
              "       STATION                              NAME        DATE   AWND  PGTM  \\\n",
              "0  USW00094789  JFK INTERNATIONAL AIRPORT, NY US  2018-01-01  17.67   NaN   \n",
              "1  USW00094789  JFK INTERNATIONAL AIRPORT, NY US  2018-01-02  15.66   NaN   \n",
              "2  USW00094789  JFK INTERNATIONAL AIRPORT, NY US  2018-01-03   8.28   NaN   \n",
              "3  USW00094789  JFK INTERNATIONAL AIRPORT, NY US  2018-01-04  28.19   NaN   \n",
              "4  USW00094789  JFK INTERNATIONAL AIRPORT, NY US  2018-01-05  25.05   NaN   \n",
              "\n",
              "   PRCP  SNOW  SNWD  TAVG  TMAX  ...  WSF2  WSF5  WT01  WT02  WT03  WT04  \\\n",
              "0  0.00   0.0   0.0    12    18  ...  29.1  34.0   NaN   NaN   NaN   NaN   \n",
              "1  0.00   0.0   0.0    18    26  ...  23.0  29.1   NaN   NaN   NaN   NaN   \n",
              "2  0.00   0.0   0.0    21    28  ...  19.9  23.0   NaN   NaN   NaN   NaN   \n",
              "3  0.49   8.0   1.2    25    29  ...  44.1  55.0   1.0   1.0   NaN   NaN   \n",
              "4  0.00   0.0   7.9    15    19  ...  36.0  46.1   NaN   NaN   NaN   NaN   \n",
              "\n",
              "   WT05  WT06  WT08  WT09  \n",
              "0   NaN   NaN   NaN   NaN  \n",
              "1   NaN   NaN   NaN   NaN  \n",
              "2   NaN   NaN   NaN   NaN  \n",
              "3   NaN   NaN   NaN   1.0  \n",
              "4   NaN   NaN   NaN   1.0  \n",
              "\n",
              "[5 rows x 23 columns]"
            ]
          },
          "execution_count": 61,
          "metadata": {},
          "output_type": "execute_result"
        }
      ],
      "source": [
        "df_nyc.head()"
      ]
    },
    {
      "cell_type": "markdown",
      "metadata": {},
      "source": [
        "#### We now examine shape of the datasets"
      ]
    },
    {
      "cell_type": "code",
      "execution_count": 62,
      "metadata": {},
      "outputs": [
        {
          "name": "stdout",
          "output_type": "stream",
          "text": [
            "Seattle Dataset\n",
            "1. # of rows: 1658 \n",
            "2. # of columns: 10\n"
          ]
        }
      ],
      "source": [
        "print('Seattle Dataset\\n1. # of rows:', df_seattle.shape[0], '\\n2. # of columns:', df_seattle.shape[1])"
      ]
    },
    {
      "cell_type": "code",
      "execution_count": 63,
      "metadata": {},
      "outputs": [
        {
          "name": "stdout",
          "output_type": "stream",
          "text": [
            "NYC Dataset\n",
            "1. # of rows: 1826 \n",
            "2. # of columns: 23\n"
          ]
        }
      ],
      "source": [
        "print('NYC Dataset\\n1. # of rows:', df_nyc.shape[0], '\\n2. # of columns:', df_nyc.shape[1])"
      ]
    },
    {
      "cell_type": "markdown",
      "metadata": {},
      "source": [
        "<b> Observation: </b>\n",
        "\n",
        "* Seattle data set has 1658 observations with 10 columns whereas NYC dataset has 1826 observations and 23 columns. This might indicate Seattle has missing observations compared to the NYC dataset."
      ]
    },
    {
      "cell_type": "markdown",
      "metadata": {
        "id": "El2gEjGnBtyy"
      },
      "source": [
        "#### We now examine the column names for each of the dataset"
      ]
    },
    {
      "cell_type": "code",
      "execution_count": 64,
      "metadata": {},
      "outputs": [
        {
          "data": {
            "text/plain": [
              "Index(['STATION', 'NAME', 'DATE', 'DAPR', 'MDPR', 'PRCP', 'SNOW', 'SNWD',\n",
              "       'WESD', 'WESF'],\n",
              "      dtype='object')"
            ]
          },
          "execution_count": 64,
          "metadata": {},
          "output_type": "execute_result"
        }
      ],
      "source": [
        "# List the column names in the Seattle dataframe\n",
        "\n",
        "df_seattle.columns "
      ]
    },
    {
      "cell_type": "code",
      "execution_count": 65,
      "metadata": {},
      "outputs": [
        {
          "data": {
            "text/plain": [
              "Index(['STATION', 'NAME', 'DATE', 'AWND', 'PGTM', 'PRCP', 'SNOW', 'SNWD',\n",
              "       'TAVG', 'TMAX', 'TMIN', 'WDF2', 'WDF5', 'WSF2', 'WSF5', 'WT01', 'WT02',\n",
              "       'WT03', 'WT04', 'WT05', 'WT06', 'WT08', 'WT09'],\n",
              "      dtype='object')"
            ]
          },
          "execution_count": 65,
          "metadata": {},
          "output_type": "execute_result"
        }
      ],
      "source": [
        "# List the column names in the NYC dataframe\n",
        "\n",
        "df_nyc.columns "
      ]
    },
    {
      "cell_type": "markdown",
      "metadata": {
        "id": "e0IEtgl8eRkv"
      },
      "source": [
        "#### We check the data types, size of the data frame, and numbers of missing values using .info()"
      ]
    },
    {
      "cell_type": "code",
      "execution_count": 66,
      "metadata": {},
      "outputs": [
        {
          "name": "stdout",
          "output_type": "stream",
          "text": [
            "<class 'pandas.core.frame.DataFrame'>\n",
            "RangeIndex: 1658 entries, 0 to 1657\n",
            "Data columns (total 10 columns):\n",
            " #   Column   Non-Null Count  Dtype  \n",
            "---  ------   --------------  -----  \n",
            " 0   STATION  1658 non-null   object \n",
            " 1   NAME     1658 non-null   object \n",
            " 2   DATE     1658 non-null   object \n",
            " 3   DAPR     23 non-null     float64\n",
            " 4   MDPR     23 non-null     float64\n",
            " 5   PRCP     1636 non-null   float64\n",
            " 6   SNOW     353 non-null    float64\n",
            " 7   SNWD     66 non-null     float64\n",
            " 8   WESD     15 non-null     float64\n",
            " 9   WESF     28 non-null     float64\n",
            "dtypes: float64(7), object(3)\n",
            "memory usage: 129.7+ KB\n"
          ]
        }
      ],
      "source": [
        "df_seattle.info()"
      ]
    },
    {
      "cell_type": "code",
      "execution_count": 67,
      "metadata": {},
      "outputs": [
        {
          "name": "stdout",
          "output_type": "stream",
          "text": [
            "<class 'pandas.core.frame.DataFrame'>\n",
            "RangeIndex: 1826 entries, 0 to 1825\n",
            "Data columns (total 23 columns):\n",
            " #   Column   Non-Null Count  Dtype  \n",
            "---  ------   --------------  -----  \n",
            " 0   STATION  1826 non-null   object \n",
            " 1   NAME     1826 non-null   object \n",
            " 2   DATE     1826 non-null   object \n",
            " 3   AWND     1826 non-null   float64\n",
            " 4   PGTM     0 non-null      float64\n",
            " 5   PRCP     1826 non-null   float64\n",
            " 6   SNOW     1826 non-null   float64\n",
            " 7   SNWD     1826 non-null   float64\n",
            " 8   TAVG     1826 non-null   int64  \n",
            " 9   TMAX     1826 non-null   int64  \n",
            " 10  TMIN     1826 non-null   int64  \n",
            " 11  WDF2     1826 non-null   int64  \n",
            " 12  WDF5     1815 non-null   float64\n",
            " 13  WSF2     1826 non-null   float64\n",
            " 14  WSF5     1815 non-null   float64\n",
            " 15  WT01     726 non-null    float64\n",
            " 16  WT02     139 non-null    float64\n",
            " 17  WT03     160 non-null    float64\n",
            " 18  WT04     31 non-null     float64\n",
            " 19  WT05     3 non-null      float64\n",
            " 20  WT06     16 non-null     float64\n",
            " 21  WT08     77 non-null     float64\n",
            " 22  WT09     6 non-null      float64\n",
            "dtypes: float64(16), int64(4), object(3)\n",
            "memory usage: 328.2+ KB\n"
          ]
        }
      ],
      "source": [
        "df_nyc.info()"
      ]
    },
    {
      "cell_type": "markdown",
      "metadata": {},
      "source": [
        "<b> Observation: </b>\n",
        "\n",
        "* NYC datasets have 1826 rows compared to Seattle  dataset that have 1658 rows"
      ]
    },
    {
      "cell_type": "markdown",
      "metadata": {
        "id": "wLtJTlMLMthz"
      },
      "source": [
        "#### Now we examine the `STATION` column"
      ]
    },
    {
      "cell_type": "code",
      "execution_count": 68,
      "metadata": {},
      "outputs": [
        {
          "data": {
            "text/plain": [
              "0       US1WAKG0225\n",
              "1       US1WAKG0225\n",
              "2       US1WAKG0225\n",
              "3       US1WAKG0225\n",
              "4       US1WAKG0225\n",
              "           ...     \n",
              "1653    US1WAKG0225\n",
              "1654    US1WAKG0225\n",
              "1655    US1WAKG0225\n",
              "1656    US1WAKG0225\n",
              "1657    US1WAKG0225\n",
              "Name: STATION, Length: 1658, dtype: object"
            ]
          },
          "execution_count": 68,
          "metadata": {},
          "output_type": "execute_result"
        }
      ],
      "source": [
        "df_seattle['STATION'] "
      ]
    },
    {
      "cell_type": "code",
      "execution_count": 69,
      "metadata": {},
      "outputs": [
        {
          "data": {
            "text/plain": [
              "0       USW00094789\n",
              "1       USW00094789\n",
              "2       USW00094789\n",
              "3       USW00094789\n",
              "4       USW00094789\n",
              "           ...     \n",
              "1821    USW00094789\n",
              "1822    USW00094789\n",
              "1823    USW00094789\n",
              "1824    USW00094789\n",
              "1825    USW00094789\n",
              "Name: STATION, Length: 1826, dtype: object"
            ]
          },
          "execution_count": 69,
          "metadata": {},
          "output_type": "execute_result"
        }
      ],
      "source": [
        "df_nyc['STATION']"
      ]
    },
    {
      "cell_type": "code",
      "execution_count": 70,
      "metadata": {},
      "outputs": [
        {
          "name": "stdout",
          "output_type": "stream",
          "text": [
            "Unique values of STATION column in:\n",
            "1. Seattle dataset: ['US1WAKG0225']\n",
            "2. NYC dataset: ['USW00094789']\n"
          ]
        }
      ],
      "source": [
        "print('Unique values of STATION column in:')\n",
        "print('1. Seattle dataset:', df_seattle['STATION'].unique())\n",
        "print('2. NYC dataset:', df_nyc['STATION'].unique())"
      ]
    },
    {
      "cell_type": "markdown",
      "metadata": {},
      "source": [
        "<b> Observation: </b>\n",
        "* STATION column in both datasets has only one unique value, indicating that the data is from a single weather station in each city.\n"
      ]
    },
    {
      "cell_type": "markdown",
      "metadata": {
        "id": "w0-RCjYSNSrt"
      },
      "source": [
        "#### Examine the `DATE` column"
      ]
    },
    {
      "cell_type": "code",
      "execution_count": 71,
      "metadata": {},
      "outputs": [
        {
          "data": {
            "text/plain": [
              "0       2018-01-01\n",
              "1       2018-01-02\n",
              "2       2018-01-03\n",
              "3       2018-01-04\n",
              "4       2018-01-05\n",
              "           ...    \n",
              "1821    2022-12-27\n",
              "1822    2022-12-28\n",
              "1823    2022-12-29\n",
              "1824    2022-12-30\n",
              "1825    2022-12-31\n",
              "Name: DATE, Length: 1826, dtype: object"
            ]
          },
          "execution_count": 71,
          "metadata": {},
          "output_type": "execute_result"
        }
      ],
      "source": [
        "df_nyc['DATE']"
      ]
    },
    {
      "cell_type": "code",
      "execution_count": 72,
      "metadata": {},
      "outputs": [
        {
          "data": {
            "text/plain": [
              "0         1/1/18\n",
              "1         1/2/18\n",
              "2         1/3/18\n",
              "3         1/4/18\n",
              "4         1/5/18\n",
              "          ...   \n",
              "1653    12/27/22\n",
              "1654    12/28/22\n",
              "1655    12/29/22\n",
              "1656    12/30/22\n",
              "1657    12/31/22\n",
              "Name: DATE, Length: 1658, dtype: object"
            ]
          },
          "execution_count": 72,
          "metadata": {},
          "output_type": "execute_result"
        }
      ],
      "source": [
        "df_seattle['DATE']"
      ]
    },
    {
      "cell_type": "markdown",
      "metadata": {},
      "source": [
        "<b> Observation: </b>\n",
        "\n",
        "* Seattle and NYC datasets have a different DATE formats i.e. 'YYYY-MM-DD' in NYC versus 'MM/DD/YY' in Seattle dataset. We should standardize date format across both the datasets.\n",
        "* Further the data type of these columns is not date datatype."
      ]
    },
    {
      "cell_type": "code",
      "execution_count": 73,
      "metadata": {},
      "outputs": [
        {
          "name": "stderr",
          "output_type": "stream",
          "text": [
            "/var/folders/9v/5yh40h_55xv50xhdsn75mt000000gn/T/ipykernel_52129/1036007586.py:3: UserWarning: Could not infer format, so each element will be parsed individually, falling back to `dateutil`. To ensure parsing is consistent and as-expected, please specify a format.\n",
            "  df_seattle['DATE'] = pd.to_datetime(df_seattle['DATE'])\n"
          ]
        },
        {
          "data": {
            "text/plain": [
              "0      2018-01-01\n",
              "1      2018-01-02\n",
              "2      2018-01-03\n",
              "3      2018-01-04\n",
              "4      2018-01-05\n",
              "          ...    \n",
              "1653   2022-12-27\n",
              "1654   2022-12-28\n",
              "1655   2022-12-29\n",
              "1656   2022-12-30\n",
              "1657   2022-12-31\n",
              "Name: DATE, Length: 1658, dtype: datetime64[ns]"
            ]
          },
          "execution_count": 73,
          "metadata": {},
          "output_type": "execute_result"
        }
      ],
      "source": [
        "# Convert the DATE column of Seattle dataset to datetime format\n",
        "\n",
        "df_seattle['DATE'] = pd.to_datetime(df_seattle['DATE']) \n",
        "df_seattle['DATE']"
      ]
    },
    {
      "cell_type": "code",
      "execution_count": 74,
      "metadata": {},
      "outputs": [
        {
          "data": {
            "text/plain": [
              "0      2018-01-01\n",
              "1      2018-01-02\n",
              "2      2018-01-03\n",
              "3      2018-01-04\n",
              "4      2018-01-05\n",
              "          ...    \n",
              "1821   2022-12-27\n",
              "1822   2022-12-28\n",
              "1823   2022-12-29\n",
              "1824   2022-12-30\n",
              "1825   2022-12-31\n",
              "Name: DATE, Length: 1826, dtype: datetime64[ns]"
            ]
          },
          "execution_count": 74,
          "metadata": {},
          "output_type": "execute_result"
        }
      ],
      "source": [
        "# Convert the DATE column of NYC dataset to datetime format\n",
        "\n",
        "df_nyc['DATE'] = pd.to_datetime(df_nyc['DATE']) \n",
        "df_nyc['DATE']"
      ]
    },
    {
      "cell_type": "markdown",
      "metadata": {
        "id": "ynybUlKfQNFq"
      },
      "source": [
        "### We now check for range of dates"
      ]
    },
    {
      "cell_type": "code",
      "execution_count": 75,
      "metadata": {},
      "outputs": [
        {
          "data": {
            "text/plain": [
              "min   2018-01-01\n",
              "max   2022-12-31\n",
              "Name: DATE, dtype: datetime64[ns]"
            ]
          },
          "execution_count": 75,
          "metadata": {},
          "output_type": "execute_result"
        }
      ],
      "source": [
        "# Find the minimum and maximum dates in the Seattle dataframe\n",
        "\n",
        "df_seattle['DATE'].agg(['min','max']) "
      ]
    },
    {
      "cell_type": "code",
      "execution_count": 76,
      "metadata": {},
      "outputs": [
        {
          "data": {
            "text/plain": [
              "min   2018-01-01\n",
              "max   2022-12-31\n",
              "Name: DATE, dtype: datetime64[ns]"
            ]
          },
          "execution_count": 76,
          "metadata": {},
          "output_type": "execute_result"
        }
      ],
      "source": [
        "# Find the minimum and maximum dates in the NYC dataframe\n",
        "\n",
        "df_nyc['DATE'].agg(['min','max']) "
      ]
    },
    {
      "cell_type": "code",
      "execution_count": 77,
      "metadata": {},
      "outputs": [
        {
          "name": "stdout",
          "output_type": "stream",
          "text": [
            "Total number of days between the period from Jan 1, 2018 to Dec 31, 2022: 1826\n"
          ]
        }
      ],
      "source": [
        "# Calculate the total number of days between the period from Jan 1, 2018 to Dec 31, 2022\n",
        "\n",
        "# Define two dates\n",
        "date1 = date(2018, 1, 1)\n",
        "date2 = date(2022, 12, 31)\n",
        "\n",
        "# Calculate difference\n",
        "days_inclusive = (date2 - date1) + pd.Timedelta(days=1) #Inclusive of both start and end date\n",
        "\n",
        "# number of days\n",
        "print('Total number of days between the period from Jan 1, 2018 to Dec 31, 2022:', days_inclusive.days)"
      ]
    },
    {
      "cell_type": "code",
      "execution_count": 78,
      "metadata": {},
      "outputs": [
        {
          "data": {
            "text/plain": [
              "1658"
            ]
          },
          "execution_count": 78,
          "metadata": {},
          "output_type": "execute_result"
        }
      ],
      "source": [
        "# Count the number of unique dates in the Seattle dataframe\n",
        "\n",
        "df_seattle['DATE'].nunique() "
      ]
    },
    {
      "cell_type": "code",
      "execution_count": 79,
      "metadata": {},
      "outputs": [
        {
          "data": {
            "text/plain": [
              "1826"
            ]
          },
          "execution_count": 79,
          "metadata": {},
          "output_type": "execute_result"
        }
      ],
      "source": [
        "#Count the number of unique dates in the NYC dataframe\n",
        "df_nyc['DATE'].nunique() "
      ]
    },
    {
      "cell_type": "markdown",
      "metadata": {},
      "source": [
        "<b> Observation: </b>\n",
        "\n",
        "* Seattle has data missing for certain days. NYC doesn't have any missing values."
      ]
    },
    {
      "cell_type": "code",
      "execution_count": 80,
      "metadata": {},
      "outputs": [
        {
          "data": {
            "image/png": "[encoded data removed]",
            "text/plain": [
              "<Figure size 2000x500 with 1 Axes>"
            ]
          },
          "metadata": {},
          "output_type": "display_data"
        }
      ],
      "source": [
        "# Plot the daily precipitation data for Seattle.\n",
        "\n",
        "plt.figure(figsize=(20, 5))\n",
        "sns.lineplot(data=df_seattle, x='DATE', y='PRCP')\n",
        "plt.xlabel('Date', fontsize=18)\n",
        "plt.ylabel('PRCP (inches)', fontsize=18) \n",
        "plt.title('Seattle Precipitation Data')\n",
        "plt.tick_params(labelsize=15)\n",
        "plt.show()"
      ]
    },
    {
      "cell_type": "markdown",
      "metadata": {},
      "source": [
        "<b> Observation: </b>\n",
        "\n",
        "* The above plot shows that Seattle has precipitation data missing for certain days since the line is not continuous.\n"
      ]
    },
    {
      "cell_type": "code",
      "execution_count": 81,
      "metadata": {},
      "outputs": [
        {
          "data": {
            "image/png": "[encoded data removed]",
            "text/plain": [
              "<Figure size 2000x500 with 1 Axes>"
            ]
          },
          "metadata": {},
          "output_type": "display_data"
        }
      ],
      "source": [
        "# Plot the daily precipitation data for NYC\n",
        "\n",
        "plt.figure(figsize=(20, 5))\n",
        "sns.lineplot(data=df_nyc, x='DATE', y='PRCP')\n",
        "plt.xlabel('Date')\n",
        "plt.ylabel('PRCP (inches)') \n",
        "plt.title('NYC Precipitation Data')\n",
        "plt.tick_params(labelsize=15)\n",
        "plt.show()"
      ]
    },
    {
      "cell_type": "code",
      "execution_count": 82,
      "metadata": {},
      "outputs": [
        {
          "data": {
            "text/html": [
              "<div>\n",
              "<style scoped>\n",
              "    .dataframe tbody tr th:only-of-type {\n",
              "        vertical-align: middle;\n",
              "    }\n",
              "\n",
              "    .dataframe tbody tr th {\n",
              "        vertical-align: top;\n",
              "    }\n",
              "\n",
              "    .dataframe thead th {\n",
              "        text-align: right;\n",
              "    }\n",
              "</style>\n",
              "<table border=\"1\" class=\"dataframe\">\n",
              "  <thead>\n",
              "    <tr style=\"text-align: right;\">\n",
              "      <th></th>\n",
              "      <th>STATION</th>\n",
              "      <th>NAME</th>\n",
              "      <th>DATE</th>\n",
              "      <th>DAPR</th>\n",
              "      <th>MDPR</th>\n",
              "      <th>PRCP</th>\n",
              "      <th>SNOW</th>\n",
              "      <th>SNWD</th>\n",
              "      <th>WESD</th>\n",
              "      <th>WESF</th>\n",
              "    </tr>\n",
              "  </thead>\n",
              "  <tbody>\n",
              "    <tr>\n",
              "      <th>0</th>\n",
              "      <td>US1WAKG0225</td>\n",
              "      <td>SEATTLE 2.1 ESE, WA US</td>\n",
              "      <td>2018-01-01</td>\n",
              "      <td>NaN</td>\n",
              "      <td>NaN</td>\n",
              "      <td>0.0</td>\n",
              "      <td>NaN</td>\n",
              "      <td>NaN</td>\n",
              "      <td>NaN</td>\n",
              "      <td>NaN</td>\n",
              "    </tr>\n",
              "    <tr>\n",
              "      <th>1</th>\n",
              "      <td>US1WAKG0225</td>\n",
              "      <td>SEATTLE 2.1 ESE, WA US</td>\n",
              "      <td>2018-01-02</td>\n",
              "      <td>NaN</td>\n",
              "      <td>NaN</td>\n",
              "      <td>0.0</td>\n",
              "      <td>NaN</td>\n",
              "      <td>NaN</td>\n",
              "      <td>NaN</td>\n",
              "      <td>NaN</td>\n",
              "    </tr>\n",
              "    <tr>\n",
              "      <th>2</th>\n",
              "      <td>US1WAKG0225</td>\n",
              "      <td>SEATTLE 2.1 ESE, WA US</td>\n",
              "      <td>2018-01-03</td>\n",
              "      <td>NaN</td>\n",
              "      <td>NaN</td>\n",
              "      <td>0.0</td>\n",
              "      <td>NaN</td>\n",
              "      <td>NaN</td>\n",
              "      <td>NaN</td>\n",
              "      <td>NaN</td>\n",
              "    </tr>\n",
              "  </tbody>\n",
              "</table>\n",
              "</div>"
            ],
            "text/plain": [
              "       STATION                    NAME       DATE  DAPR  MDPR  PRCP  SNOW  \\\n",
              "0  US1WAKG0225  SEATTLE 2.1 ESE, WA US 2018-01-01   NaN   NaN   0.0   NaN   \n",
              "1  US1WAKG0225  SEATTLE 2.1 ESE, WA US 2018-01-02   NaN   NaN   0.0   NaN   \n",
              "2  US1WAKG0225  SEATTLE 2.1 ESE, WA US 2018-01-03   NaN   NaN   0.0   NaN   \n",
              "\n",
              "   SNWD  WESD  WESF  \n",
              "0   NaN   NaN   NaN  \n",
              "1   NaN   NaN   NaN  \n",
              "2   NaN   NaN   NaN  "
            ]
          },
          "execution_count": 82,
          "metadata": {},
          "output_type": "execute_result"
        }
      ],
      "source": [
        "df_seattle.head(3) #Display the first 3 rows of the dataframe"
      ]
    },
    {
      "cell_type": "code",
      "execution_count": 83,
      "metadata": {},
      "outputs": [
        {
          "data": {
            "text/html": [
              "<div>\n",
              "<style scoped>\n",
              "    .dataframe tbody tr th:only-of-type {\n",
              "        vertical-align: middle;\n",
              "    }\n",
              "\n",
              "    .dataframe tbody tr th {\n",
              "        vertical-align: top;\n",
              "    }\n",
              "\n",
              "    .dataframe thead th {\n",
              "        text-align: right;\n",
              "    }\n",
              "</style>\n",
              "<table border=\"1\" class=\"dataframe\">\n",
              "  <thead>\n",
              "    <tr style=\"text-align: right;\">\n",
              "      <th></th>\n",
              "      <th>STATION</th>\n",
              "      <th>NAME</th>\n",
              "      <th>DATE</th>\n",
              "      <th>DAPR</th>\n",
              "      <th>MDPR</th>\n",
              "      <th>PRCP</th>\n",
              "      <th>SNOW</th>\n",
              "      <th>SNWD</th>\n",
              "      <th>WESD</th>\n",
              "      <th>WESF</th>\n",
              "    </tr>\n",
              "  </thead>\n",
              "  <tbody>\n",
              "    <tr>\n",
              "      <th>1655</th>\n",
              "      <td>US1WAKG0225</td>\n",
              "      <td>SEATTLE 2.1 ESE, WA US</td>\n",
              "      <td>2022-12-29</td>\n",
              "      <td>NaN</td>\n",
              "      <td>NaN</td>\n",
              "      <td>0.03</td>\n",
              "      <td>NaN</td>\n",
              "      <td>NaN</td>\n",
              "      <td>NaN</td>\n",
              "      <td>NaN</td>\n",
              "    </tr>\n",
              "    <tr>\n",
              "      <th>1656</th>\n",
              "      <td>US1WAKG0225</td>\n",
              "      <td>SEATTLE 2.1 ESE, WA US</td>\n",
              "      <td>2022-12-30</td>\n",
              "      <td>NaN</td>\n",
              "      <td>NaN</td>\n",
              "      <td>0.62</td>\n",
              "      <td>NaN</td>\n",
              "      <td>NaN</td>\n",
              "      <td>NaN</td>\n",
              "      <td>NaN</td>\n",
              "    </tr>\n",
              "    <tr>\n",
              "      <th>1657</th>\n",
              "      <td>US1WAKG0225</td>\n",
              "      <td>SEATTLE 2.1 ESE, WA US</td>\n",
              "      <td>2022-12-31</td>\n",
              "      <td>NaN</td>\n",
              "      <td>NaN</td>\n",
              "      <td>0.17</td>\n",
              "      <td>NaN</td>\n",
              "      <td>NaN</td>\n",
              "      <td>NaN</td>\n",
              "      <td>NaN</td>\n",
              "    </tr>\n",
              "  </tbody>\n",
              "</table>\n",
              "</div>"
            ],
            "text/plain": [
              "          STATION                    NAME       DATE  DAPR  MDPR  PRCP  SNOW  \\\n",
              "1655  US1WAKG0225  SEATTLE 2.1 ESE, WA US 2022-12-29   NaN   NaN  0.03   NaN   \n",
              "1656  US1WAKG0225  SEATTLE 2.1 ESE, WA US 2022-12-30   NaN   NaN  0.62   NaN   \n",
              "1657  US1WAKG0225  SEATTLE 2.1 ESE, WA US 2022-12-31   NaN   NaN  0.17   NaN   \n",
              "\n",
              "      SNWD  WESD  WESF  \n",
              "1655   NaN   NaN   NaN  \n",
              "1656   NaN   NaN   NaN  \n",
              "1657   NaN   NaN   NaN  "
            ]
          },
          "execution_count": 83,
          "metadata": {},
          "output_type": "execute_result"
        }
      ],
      "source": [
        "df_seattle.tail(3) #Display the last 3 rows of the dataframe"
      ]
    },
    {
      "cell_type": "code",
      "execution_count": 84,
      "metadata": {
        "id": "MImmswQEqDQL"
      },
      "outputs": [
        {
          "data": {
            "text/html": [
              "<div>\n",
              "<style scoped>\n",
              "    .dataframe tbody tr th:only-of-type {\n",
              "        vertical-align: middle;\n",
              "    }\n",
              "\n",
              "    .dataframe tbody tr th {\n",
              "        vertical-align: top;\n",
              "    }\n",
              "\n",
              "    .dataframe thead th {\n",
              "        text-align: right;\n",
              "    }\n",
              "</style>\n",
              "<table border=\"1\" class=\"dataframe\">\n",
              "  <thead>\n",
              "    <tr style=\"text-align: right;\">\n",
              "      <th></th>\n",
              "      <th>STATION</th>\n",
              "      <th>NAME</th>\n",
              "      <th>DATE</th>\n",
              "      <th>AWND</th>\n",
              "      <th>PGTM</th>\n",
              "      <th>PRCP</th>\n",
              "      <th>SNOW</th>\n",
              "      <th>SNWD</th>\n",
              "      <th>TAVG</th>\n",
              "      <th>TMAX</th>\n",
              "      <th>...</th>\n",
              "      <th>WSF2</th>\n",
              "      <th>WSF5</th>\n",
              "      <th>WT01</th>\n",
              "      <th>WT02</th>\n",
              "      <th>WT03</th>\n",
              "      <th>WT04</th>\n",
              "      <th>WT05</th>\n",
              "      <th>WT06</th>\n",
              "      <th>WT08</th>\n",
              "      <th>WT09</th>\n",
              "    </tr>\n",
              "  </thead>\n",
              "  <tbody>\n",
              "    <tr>\n",
              "      <th>0</th>\n",
              "      <td>USW00094789</td>\n",
              "      <td>JFK INTERNATIONAL AIRPORT, NY US</td>\n",
              "      <td>2018-01-01</td>\n",
              "      <td>17.67</td>\n",
              "      <td>NaN</td>\n",
              "      <td>0.0</td>\n",
              "      <td>0.0</td>\n",
              "      <td>0.0</td>\n",
              "      <td>12</td>\n",
              "      <td>18</td>\n",
              "      <td>...</td>\n",
              "      <td>29.1</td>\n",
              "      <td>34.0</td>\n",
              "      <td>NaN</td>\n",
              "      <td>NaN</td>\n",
              "      <td>NaN</td>\n",
              "      <td>NaN</td>\n",
              "      <td>NaN</td>\n",
              "      <td>NaN</td>\n",
              "      <td>NaN</td>\n",
              "      <td>NaN</td>\n",
              "    </tr>\n",
              "    <tr>\n",
              "      <th>1</th>\n",
              "      <td>USW00094789</td>\n",
              "      <td>JFK INTERNATIONAL AIRPORT, NY US</td>\n",
              "      <td>2018-01-02</td>\n",
              "      <td>15.66</td>\n",
              "      <td>NaN</td>\n",
              "      <td>0.0</td>\n",
              "      <td>0.0</td>\n",
              "      <td>0.0</td>\n",
              "      <td>18</td>\n",
              "      <td>26</td>\n",
              "      <td>...</td>\n",
              "      <td>23.0</td>\n",
              "      <td>29.1</td>\n",
              "      <td>NaN</td>\n",
              "      <td>NaN</td>\n",
              "      <td>NaN</td>\n",
              "      <td>NaN</td>\n",
              "      <td>NaN</td>\n",
              "      <td>NaN</td>\n",
              "      <td>NaN</td>\n",
              "      <td>NaN</td>\n",
              "    </tr>\n",
              "    <tr>\n",
              "      <th>2</th>\n",
              "      <td>USW00094789</td>\n",
              "      <td>JFK INTERNATIONAL AIRPORT, NY US</td>\n",
              "      <td>2018-01-03</td>\n",
              "      <td>8.28</td>\n",
              "      <td>NaN</td>\n",
              "      <td>0.0</td>\n",
              "      <td>0.0</td>\n",
              "      <td>0.0</td>\n",
              "      <td>21</td>\n",
              "      <td>28</td>\n",
              "      <td>...</td>\n",
              "      <td>19.9</td>\n",
              "      <td>23.0</td>\n",
              "      <td>NaN</td>\n",
              "      <td>NaN</td>\n",
              "      <td>NaN</td>\n",
              "      <td>NaN</td>\n",
              "      <td>NaN</td>\n",
              "      <td>NaN</td>\n",
              "      <td>NaN</td>\n",
              "      <td>NaN</td>\n",
              "    </tr>\n",
              "  </tbody>\n",
              "</table>\n",
              "<p>3 rows × 23 columns</p>\n",
              "</div>"
            ],
            "text/plain": [
              "       STATION                              NAME       DATE   AWND  PGTM  \\\n",
              "0  USW00094789  JFK INTERNATIONAL AIRPORT, NY US 2018-01-01  17.67   NaN   \n",
              "1  USW00094789  JFK INTERNATIONAL AIRPORT, NY US 2018-01-02  15.66   NaN   \n",
              "2  USW00094789  JFK INTERNATIONAL AIRPORT, NY US 2018-01-03   8.28   NaN   \n",
              "\n",
              "   PRCP  SNOW  SNWD  TAVG  TMAX  ...  WSF2  WSF5  WT01  WT02  WT03  WT04  \\\n",
              "0   0.0   0.0   0.0    12    18  ...  29.1  34.0   NaN   NaN   NaN   NaN   \n",
              "1   0.0   0.0   0.0    18    26  ...  23.0  29.1   NaN   NaN   NaN   NaN   \n",
              "2   0.0   0.0   0.0    21    28  ...  19.9  23.0   NaN   NaN   NaN   NaN   \n",
              "\n",
              "   WT05  WT06  WT08  WT09  \n",
              "0   NaN   NaN   NaN   NaN  \n",
              "1   NaN   NaN   NaN   NaN  \n",
              "2   NaN   NaN   NaN   NaN  \n",
              "\n",
              "[3 rows x 23 columns]"
            ]
          },
          "execution_count": 84,
          "metadata": {},
          "output_type": "execute_result"
        }
      ],
      "source": [
        "df_nyc.head(3)"
      ]
    },
    {
      "cell_type": "markdown",
      "metadata": {},
      "source": [
        "<b> Observation: </b>\n",
        "\n",
        "* We now want to combine the two datasets into one dataframe for further analysis.</br>\n",
        "* This is done by joining the two dataframes on the 'DATE' column using an outer join.</br>\n",
        "* This ensures that all the dates from both datasets are included in the final dataframe, even if one of the datasets is missing data for a particular date.</br>\n"
      ]
    },
    {
      "cell_type": "markdown",
      "metadata": {
        "id": "BkCnFJdVryvv"
      },
      "source": [
        "#### Join data frames keeping `DATE` and `PRCP` columns"
      ]
    },
    {
      "cell_type": "code",
      "execution_count": 85,
      "metadata": {},
      "outputs": [],
      "source": [
        "# Merge the NYC and Seattle dataframes on the DATE column using an outer join to include all dates from both datasets\n",
        "\n",
        "df = df_nyc[['DATE','PRCP']].merge(df_seattle[['DATE','PRCP']], on='DATE', how='outer')"
      ]
    },
    {
      "cell_type": "code",
      "execution_count": 86,
      "metadata": {},
      "outputs": [
        {
          "data": {
            "text/html": [
              "<div>\n",
              "<style scoped>\n",
              "    .dataframe tbody tr th:only-of-type {\n",
              "        vertical-align: middle;\n",
              "    }\n",
              "\n",
              "    .dataframe tbody tr th {\n",
              "        vertical-align: top;\n",
              "    }\n",
              "\n",
              "    .dataframe thead th {\n",
              "        text-align: right;\n",
              "    }\n",
              "</style>\n",
              "<table border=\"1\" class=\"dataframe\">\n",
              "  <thead>\n",
              "    <tr style=\"text-align: right;\">\n",
              "      <th></th>\n",
              "      <th>DATE</th>\n",
              "      <th>PRCP_x</th>\n",
              "      <th>PRCP_y</th>\n",
              "    </tr>\n",
              "  </thead>\n",
              "  <tbody>\n",
              "    <tr>\n",
              "      <th>0</th>\n",
              "      <td>2018-01-01</td>\n",
              "      <td>0.00</td>\n",
              "      <td>0.00</td>\n",
              "    </tr>\n",
              "    <tr>\n",
              "      <th>1</th>\n",
              "      <td>2018-01-02</td>\n",
              "      <td>0.00</td>\n",
              "      <td>0.00</td>\n",
              "    </tr>\n",
              "    <tr>\n",
              "      <th>2</th>\n",
              "      <td>2018-01-03</td>\n",
              "      <td>0.00</td>\n",
              "      <td>0.00</td>\n",
              "    </tr>\n",
              "    <tr>\n",
              "      <th>3</th>\n",
              "      <td>2018-01-04</td>\n",
              "      <td>0.49</td>\n",
              "      <td>0.00</td>\n",
              "    </tr>\n",
              "    <tr>\n",
              "      <th>4</th>\n",
              "      <td>2018-01-05</td>\n",
              "      <td>0.00</td>\n",
              "      <td>0.25</td>\n",
              "    </tr>\n",
              "    <tr>\n",
              "      <th>...</th>\n",
              "      <td>...</td>\n",
              "      <td>...</td>\n",
              "      <td>...</td>\n",
              "    </tr>\n",
              "    <tr>\n",
              "      <th>1821</th>\n",
              "      <td>2022-12-27</td>\n",
              "      <td>0.00</td>\n",
              "      <td>0.78</td>\n",
              "    </tr>\n",
              "    <tr>\n",
              "      <th>1822</th>\n",
              "      <td>2022-12-28</td>\n",
              "      <td>0.00</td>\n",
              "      <td>0.40</td>\n",
              "    </tr>\n",
              "    <tr>\n",
              "      <th>1823</th>\n",
              "      <td>2022-12-29</td>\n",
              "      <td>0.00</td>\n",
              "      <td>0.03</td>\n",
              "    </tr>\n",
              "    <tr>\n",
              "      <th>1824</th>\n",
              "      <td>2022-12-30</td>\n",
              "      <td>0.00</td>\n",
              "      <td>0.62</td>\n",
              "    </tr>\n",
              "    <tr>\n",
              "      <th>1825</th>\n",
              "      <td>2022-12-31</td>\n",
              "      <td>0.27</td>\n",
              "      <td>0.17</td>\n",
              "    </tr>\n",
              "  </tbody>\n",
              "</table>\n",
              "<p>1826 rows × 3 columns</p>\n",
              "</div>"
            ],
            "text/plain": [
              "           DATE  PRCP_x  PRCP_y\n",
              "0    2018-01-01    0.00    0.00\n",
              "1    2018-01-02    0.00    0.00\n",
              "2    2018-01-03    0.00    0.00\n",
              "3    2018-01-04    0.49    0.00\n",
              "4    2018-01-05    0.00    0.25\n",
              "...         ...     ...     ...\n",
              "1821 2022-12-27    0.00    0.78\n",
              "1822 2022-12-28    0.00    0.40\n",
              "1823 2022-12-29    0.00    0.03\n",
              "1824 2022-12-30    0.00    0.62\n",
              "1825 2022-12-31    0.27    0.17\n",
              "\n",
              "[1826 rows x 3 columns]"
            ]
          },
          "execution_count": 86,
          "metadata": {},
          "output_type": "execute_result"
        }
      ],
      "source": [
        "df"
      ]
    },
    {
      "cell_type": "markdown",
      "metadata": {},
      "source": [
        "<b> Observation: </b>\n",
        "\n",
        "* We now have a combined dataframe with three columns: 'DATE', 'PRCP_x' (NYC precipitation), and 'PRCP_y' (Seattle precipitation).</br>\n",
        "* The column names have to be renamed for clarity. So we rename the columns using tidy data frame.</br>\n"
      ]
    },
    {
      "cell_type": "markdown",
      "metadata": {
        "id": "TklEWrlhsEiQ"
      },
      "source": [
        "#### Create a tidy data frame with columns for city and precipitation"
      ]
    },
    {
      "cell_type": "code",
      "execution_count": 87,
      "metadata": {},
      "outputs": [
        {
          "data": {
            "text/html": [
              "<div>\n",
              "<style scoped>\n",
              "    .dataframe tbody tr th:only-of-type {\n",
              "        vertical-align: middle;\n",
              "    }\n",
              "\n",
              "    .dataframe tbody tr th {\n",
              "        vertical-align: top;\n",
              "    }\n",
              "\n",
              "    .dataframe thead th {\n",
              "        text-align: right;\n",
              "    }\n",
              "</style>\n",
              "<table border=\"1\" class=\"dataframe\">\n",
              "  <thead>\n",
              "    <tr style=\"text-align: right;\">\n",
              "      <th></th>\n",
              "      <th>DATE</th>\n",
              "      <th>city</th>\n",
              "      <th>precipitation</th>\n",
              "    </tr>\n",
              "  </thead>\n",
              "  <tbody>\n",
              "    <tr>\n",
              "      <th>0</th>\n",
              "      <td>2018-01-01</td>\n",
              "      <td>PRCP_x</td>\n",
              "      <td>0.00</td>\n",
              "    </tr>\n",
              "    <tr>\n",
              "      <th>1</th>\n",
              "      <td>2018-01-02</td>\n",
              "      <td>PRCP_x</td>\n",
              "      <td>0.00</td>\n",
              "    </tr>\n",
              "    <tr>\n",
              "      <th>2</th>\n",
              "      <td>2018-01-03</td>\n",
              "      <td>PRCP_x</td>\n",
              "      <td>0.00</td>\n",
              "    </tr>\n",
              "    <tr>\n",
              "      <th>3</th>\n",
              "      <td>2018-01-04</td>\n",
              "      <td>PRCP_x</td>\n",
              "      <td>0.49</td>\n",
              "    </tr>\n",
              "    <tr>\n",
              "      <th>4</th>\n",
              "      <td>2018-01-05</td>\n",
              "      <td>PRCP_x</td>\n",
              "      <td>0.00</td>\n",
              "    </tr>\n",
              "    <tr>\n",
              "      <th>...</th>\n",
              "      <td>...</td>\n",
              "      <td>...</td>\n",
              "      <td>...</td>\n",
              "    </tr>\n",
              "    <tr>\n",
              "      <th>3647</th>\n",
              "      <td>2022-12-27</td>\n",
              "      <td>PRCP_y</td>\n",
              "      <td>0.78</td>\n",
              "    </tr>\n",
              "    <tr>\n",
              "      <th>3648</th>\n",
              "      <td>2022-12-28</td>\n",
              "      <td>PRCP_y</td>\n",
              "      <td>0.40</td>\n",
              "    </tr>\n",
              "    <tr>\n",
              "      <th>3649</th>\n",
              "      <td>2022-12-29</td>\n",
              "      <td>PRCP_y</td>\n",
              "      <td>0.03</td>\n",
              "    </tr>\n",
              "    <tr>\n",
              "      <th>3650</th>\n",
              "      <td>2022-12-30</td>\n",
              "      <td>PRCP_y</td>\n",
              "      <td>0.62</td>\n",
              "    </tr>\n",
              "    <tr>\n",
              "      <th>3651</th>\n",
              "      <td>2022-12-31</td>\n",
              "      <td>PRCP_y</td>\n",
              "      <td>0.17</td>\n",
              "    </tr>\n",
              "  </tbody>\n",
              "</table>\n",
              "<p>3652 rows × 3 columns</p>\n",
              "</div>"
            ],
            "text/plain": [
              "           DATE    city  precipitation\n",
              "0    2018-01-01  PRCP_x           0.00\n",
              "1    2018-01-02  PRCP_x           0.00\n",
              "2    2018-01-03  PRCP_x           0.00\n",
              "3    2018-01-04  PRCP_x           0.49\n",
              "4    2018-01-05  PRCP_x           0.00\n",
              "...         ...     ...            ...\n",
              "3647 2022-12-27  PRCP_y           0.78\n",
              "3648 2022-12-28  PRCP_y           0.40\n",
              "3649 2022-12-29  PRCP_y           0.03\n",
              "3650 2022-12-30  PRCP_y           0.62\n",
              "3651 2022-12-31  PRCP_y           0.17\n",
              "\n",
              "[3652 rows x 3 columns]"
            ]
          },
          "execution_count": 87,
          "metadata": {},
          "output_type": "execute_result"
        }
      ],
      "source": [
        "# Tranforming the merged dataframe to tidy data frame. We use the melt function from pandas to achieve this.\n",
        "\n",
        "df = pd.melt(\n",
        "    df,id_vars='DATE',\n",
        "    var_name='city',\n",
        "    value_name='precipitation'\n",
        "    )\n",
        "df"
      ]
    },
    {
      "cell_type": "markdown",
      "metadata": {
        "id": "Au8SCopULgXT"
      },
      "source": [
        "#### To get a clear picture we rename the city values as 'NYC' and 'SEA'"
      ]
    },
    {
      "cell_type": "code",
      "execution_count": 88,
      "metadata": {},
      "outputs": [],
      "source": [
        "df.loc[df['city']=='PRCP_x', 'city'] = 'NYC'# Replace the city values for NYC\n",
        "df.loc[df['city']=='PRCP_y', 'city'] = 'SEA' # Replace the city values for Seattle"
      ]
    },
    {
      "cell_type": "markdown",
      "metadata": {
        "id": "KzbDZf1d4BpT"
      },
      "source": [
        "##### Rename the columns to be lowercase using `df.rename()`"
      ]
    },
    {
      "cell_type": "code",
      "execution_count": 89,
      "metadata": {},
      "outputs": [
        {
          "data": {
            "text/html": [
              "<div>\n",
              "<style scoped>\n",
              "    .dataframe tbody tr th:only-of-type {\n",
              "        vertical-align: middle;\n",
              "    }\n",
              "\n",
              "    .dataframe tbody tr th {\n",
              "        vertical-align: top;\n",
              "    }\n",
              "\n",
              "    .dataframe thead th {\n",
              "        text-align: right;\n",
              "    }\n",
              "</style>\n",
              "<table border=\"1\" class=\"dataframe\">\n",
              "  <thead>\n",
              "    <tr style=\"text-align: right;\">\n",
              "      <th></th>\n",
              "      <th>date</th>\n",
              "      <th>city</th>\n",
              "      <th>precipitation</th>\n",
              "    </tr>\n",
              "  </thead>\n",
              "  <tbody>\n",
              "    <tr>\n",
              "      <th>0</th>\n",
              "      <td>2018-01-01</td>\n",
              "      <td>NYC</td>\n",
              "      <td>0.00</td>\n",
              "    </tr>\n",
              "    <tr>\n",
              "      <th>1</th>\n",
              "      <td>2018-01-02</td>\n",
              "      <td>NYC</td>\n",
              "      <td>0.00</td>\n",
              "    </tr>\n",
              "    <tr>\n",
              "      <th>2</th>\n",
              "      <td>2018-01-03</td>\n",
              "      <td>NYC</td>\n",
              "      <td>0.00</td>\n",
              "    </tr>\n",
              "    <tr>\n",
              "      <th>3</th>\n",
              "      <td>2018-01-04</td>\n",
              "      <td>NYC</td>\n",
              "      <td>0.49</td>\n",
              "    </tr>\n",
              "    <tr>\n",
              "      <th>4</th>\n",
              "      <td>2018-01-05</td>\n",
              "      <td>NYC</td>\n",
              "      <td>0.00</td>\n",
              "    </tr>\n",
              "    <tr>\n",
              "      <th>...</th>\n",
              "      <td>...</td>\n",
              "      <td>...</td>\n",
              "      <td>...</td>\n",
              "    </tr>\n",
              "    <tr>\n",
              "      <th>3647</th>\n",
              "      <td>2022-12-27</td>\n",
              "      <td>SEA</td>\n",
              "      <td>0.78</td>\n",
              "    </tr>\n",
              "    <tr>\n",
              "      <th>3648</th>\n",
              "      <td>2022-12-28</td>\n",
              "      <td>SEA</td>\n",
              "      <td>0.40</td>\n",
              "    </tr>\n",
              "    <tr>\n",
              "      <th>3649</th>\n",
              "      <td>2022-12-29</td>\n",
              "      <td>SEA</td>\n",
              "      <td>0.03</td>\n",
              "    </tr>\n",
              "    <tr>\n",
              "      <th>3650</th>\n",
              "      <td>2022-12-30</td>\n",
              "      <td>SEA</td>\n",
              "      <td>0.62</td>\n",
              "    </tr>\n",
              "    <tr>\n",
              "      <th>3651</th>\n",
              "      <td>2022-12-31</td>\n",
              "      <td>SEA</td>\n",
              "      <td>0.17</td>\n",
              "    </tr>\n",
              "  </tbody>\n",
              "</table>\n",
              "<p>3652 rows × 3 columns</p>\n",
              "</div>"
            ],
            "text/plain": [
              "           date city  precipitation\n",
              "0    2018-01-01  NYC           0.00\n",
              "1    2018-01-02  NYC           0.00\n",
              "2    2018-01-03  NYC           0.00\n",
              "3    2018-01-04  NYC           0.49\n",
              "4    2018-01-05  NYC           0.00\n",
              "...         ...  ...            ...\n",
              "3647 2022-12-27  SEA           0.78\n",
              "3648 2022-12-28  SEA           0.40\n",
              "3649 2022-12-29  SEA           0.03\n",
              "3650 2022-12-30  SEA           0.62\n",
              "3651 2022-12-31  SEA           0.17\n",
              "\n",
              "[3652 rows x 3 columns]"
            ]
          },
          "execution_count": 89,
          "metadata": {},
          "output_type": "execute_result"
        }
      ],
      "source": [
        "\n",
        "df = df.rename(columns={'DATE':'date'})\n",
        "df"
      ]
    },
    {
      "cell_type": "markdown",
      "metadata": {
        "id": "aAaUY6N1rtoa"
      },
      "source": [
        "Once the column names are renamed and pivoted, we can check for any missing values in the precipitation column.\n",
        "Identify and fill in missing values"
      ]
    },
    {
      "cell_type": "markdown",
      "metadata": {
        "id": "Q1rA_SSUPyUT"
      },
      "source": [
        "Determine the number of non-null values in each column."
      ]
    },
    {
      "cell_type": "code",
      "execution_count": 90,
      "metadata": {},
      "outputs": [
        {
          "data": {
            "text/plain": [
              "date             3652\n",
              "city             3652\n",
              "precipitation    3462\n",
              "dtype: int64"
            ]
          },
          "execution_count": 90,
          "metadata": {},
          "output_type": "execute_result"
        }
      ],
      "source": [
        "df.count()"
      ]
    },
    {
      "cell_type": "markdown",
      "metadata": {
        "id": "9rgs-UvovTga"
      },
      "source": [
        "Determine the number of null values in each column."
      ]
    },
    {
      "cell_type": "code",
      "execution_count": 91,
      "metadata": {},
      "outputs": [
        {
          "data": {
            "text/plain": [
              "date               0\n",
              "city               0\n",
              "precipitation    190\n",
              "dtype: int64"
            ]
          },
          "execution_count": 91,
          "metadata": {},
          "output_type": "execute_result"
        }
      ],
      "source": [
        "df.isna().sum()"
      ]
    },
    {
      "cell_type": "markdown",
      "metadata": {
        "id": "ceiU_nolviBn"
      },
      "source": [
        "Determine the number of null precipitation values for Seattle and NYC"
      ]
    },
    {
      "cell_type": "code",
      "execution_count": 92,
      "metadata": {},
      "outputs": [
        {
          "data": {
            "text/plain": [
              "190"
            ]
          },
          "execution_count": 92,
          "metadata": {},
          "output_type": "execute_result"
        }
      ],
      "source": [
        "# Count the null values in the precipitation column\n",
        "\n",
        "df['precipitation'].isna().sum() "
      ]
    },
    {
      "cell_type": "code",
      "execution_count": 93,
      "metadata": {},
      "outputs": [
        {
          "data": {
            "text/plain": [
              "0"
            ]
          },
          "execution_count": 93,
          "metadata": {},
          "output_type": "execute_result"
        }
      ],
      "source": [
        "# Count the null values in the precipitation column for NYC\n",
        "\n",
        "df.loc[df['city']=='NYC', 'precipitation'].isna().sum() "
      ]
    },
    {
      "cell_type": "code",
      "execution_count": 94,
      "metadata": {},
      "outputs": [
        {
          "data": {
            "text/plain": [
              "190"
            ]
          },
          "execution_count": 94,
          "metadata": {},
          "output_type": "execute_result"
        }
      ],
      "source": [
        "# Count the null values in the precipitation column for Seattle\n",
        "\n",
        "df.loc[df['city']=='SEA', 'precipitation'].isna().sum() "
      ]
    },
    {
      "cell_type": "markdown",
      "metadata": {},
      "source": [
        "<b> Observation: </b>\n",
        "\n",
        "* The above result shows that Seattle has 190 missing precipitation values."
      ]
    },
    {
      "cell_type": "markdown",
      "metadata": {
        "id": "7W_iTvjbXx8_"
      },
      "source": [
        "#### Now we move on to impute the missing values "
      ]
    },
    {
      "cell_type": "markdown",
      "metadata": {
        "id": "3OTbPI91dMOB"
      },
      "source": [
        "We will replace missing values with the mean across years of values on that day.\n",
        "\n",
        "\n",
        " Algorithm for replacing missing values with the mean across years of values on that day.\n",
        "- Create a new column for the day of the year\n",
        "- Calculate the mean precipitation for each day of the year for Seattle using groupby function\n",
        "- Check for null values in the precipitation column\n",
        "- Get the indices of the rows with null values in the precipitation column\n",
        "- Replace the null values in precipitation to the mean values\n",
        "- Check for null values in the dataframe\n"
      ]
    },
    {
      "cell_type": "code",
      "execution_count": 95,
      "metadata": {},
      "outputs": [
        {
          "data": {
            "text/html": [
              "<div>\n",
              "<style scoped>\n",
              "    .dataframe tbody tr th:only-of-type {\n",
              "        vertical-align: middle;\n",
              "    }\n",
              "\n",
              "    .dataframe tbody tr th {\n",
              "        vertical-align: top;\n",
              "    }\n",
              "\n",
              "    .dataframe thead th {\n",
              "        text-align: right;\n",
              "    }\n",
              "</style>\n",
              "<table border=\"1\" class=\"dataframe\">\n",
              "  <thead>\n",
              "    <tr style=\"text-align: right;\">\n",
              "      <th></th>\n",
              "      <th>date</th>\n",
              "      <th>city</th>\n",
              "      <th>precipitation</th>\n",
              "      <th>day_of_year</th>\n",
              "    </tr>\n",
              "  </thead>\n",
              "  <tbody>\n",
              "    <tr>\n",
              "      <th>0</th>\n",
              "      <td>2018-01-01</td>\n",
              "      <td>NYC</td>\n",
              "      <td>0.00</td>\n",
              "      <td>1</td>\n",
              "    </tr>\n",
              "    <tr>\n",
              "      <th>1</th>\n",
              "      <td>2018-01-02</td>\n",
              "      <td>NYC</td>\n",
              "      <td>0.00</td>\n",
              "      <td>2</td>\n",
              "    </tr>\n",
              "    <tr>\n",
              "      <th>2</th>\n",
              "      <td>2018-01-03</td>\n",
              "      <td>NYC</td>\n",
              "      <td>0.00</td>\n",
              "      <td>3</td>\n",
              "    </tr>\n",
              "    <tr>\n",
              "      <th>3</th>\n",
              "      <td>2018-01-04</td>\n",
              "      <td>NYC</td>\n",
              "      <td>0.49</td>\n",
              "      <td>4</td>\n",
              "    </tr>\n",
              "    <tr>\n",
              "      <th>4</th>\n",
              "      <td>2018-01-05</td>\n",
              "      <td>NYC</td>\n",
              "      <td>0.00</td>\n",
              "      <td>5</td>\n",
              "    </tr>\n",
              "    <tr>\n",
              "      <th>...</th>\n",
              "      <td>...</td>\n",
              "      <td>...</td>\n",
              "      <td>...</td>\n",
              "      <td>...</td>\n",
              "    </tr>\n",
              "    <tr>\n",
              "      <th>3647</th>\n",
              "      <td>2022-12-27</td>\n",
              "      <td>SEA</td>\n",
              "      <td>0.78</td>\n",
              "      <td>361</td>\n",
              "    </tr>\n",
              "    <tr>\n",
              "      <th>3648</th>\n",
              "      <td>2022-12-28</td>\n",
              "      <td>SEA</td>\n",
              "      <td>0.40</td>\n",
              "      <td>362</td>\n",
              "    </tr>\n",
              "    <tr>\n",
              "      <th>3649</th>\n",
              "      <td>2022-12-29</td>\n",
              "      <td>SEA</td>\n",
              "      <td>0.03</td>\n",
              "      <td>363</td>\n",
              "    </tr>\n",
              "    <tr>\n",
              "      <th>3650</th>\n",
              "      <td>2022-12-30</td>\n",
              "      <td>SEA</td>\n",
              "      <td>0.62</td>\n",
              "      <td>364</td>\n",
              "    </tr>\n",
              "    <tr>\n",
              "      <th>3651</th>\n",
              "      <td>2022-12-31</td>\n",
              "      <td>SEA</td>\n",
              "      <td>0.17</td>\n",
              "      <td>365</td>\n",
              "    </tr>\n",
              "  </tbody>\n",
              "</table>\n",
              "<p>3652 rows × 4 columns</p>\n",
              "</div>"
            ],
            "text/plain": [
              "           date city  precipitation  day_of_year\n",
              "0    2018-01-01  NYC           0.00            1\n",
              "1    2018-01-02  NYC           0.00            2\n",
              "2    2018-01-03  NYC           0.00            3\n",
              "3    2018-01-04  NYC           0.49            4\n",
              "4    2018-01-05  NYC           0.00            5\n",
              "...         ...  ...            ...          ...\n",
              "3647 2022-12-27  SEA           0.78          361\n",
              "3648 2022-12-28  SEA           0.40          362\n",
              "3649 2022-12-29  SEA           0.03          363\n",
              "3650 2022-12-30  SEA           0.62          364\n",
              "3651 2022-12-31  SEA           0.17          365\n",
              "\n",
              "[3652 rows x 4 columns]"
            ]
          },
          "execution_count": 95,
          "metadata": {},
          "output_type": "execute_result"
        }
      ],
      "source": [
        "# Create a new column for the day of the year\n",
        "\n",
        "df['day_of_year'] = pd.DatetimeIndex(df['date']).dayofyear \n",
        "df"
      ]
    },
    {
      "cell_type": "code",
      "execution_count": 96,
      "metadata": {},
      "outputs": [
        {
          "data": {
            "text/html": [
              "<div>\n",
              "<style scoped>\n",
              "    .dataframe tbody tr th:only-of-type {\n",
              "        vertical-align: middle;\n",
              "    }\n",
              "\n",
              "    .dataframe tbody tr th {\n",
              "        vertical-align: top;\n",
              "    }\n",
              "\n",
              "    .dataframe thead th {\n",
              "        text-align: right;\n",
              "    }\n",
              "</style>\n",
              "<table border=\"1\" class=\"dataframe\">\n",
              "  <thead>\n",
              "    <tr style=\"text-align: right;\">\n",
              "      <th></th>\n",
              "      <th>precipitation</th>\n",
              "    </tr>\n",
              "    <tr>\n",
              "      <th>day_of_year</th>\n",
              "      <th></th>\n",
              "    </tr>\n",
              "  </thead>\n",
              "  <tbody>\n",
              "    <tr>\n",
              "      <th>1</th>\n",
              "      <td>0.052000</td>\n",
              "    </tr>\n",
              "    <tr>\n",
              "      <th>2</th>\n",
              "      <td>0.150000</td>\n",
              "    </tr>\n",
              "    <tr>\n",
              "      <th>3</th>\n",
              "      <td>0.836000</td>\n",
              "    </tr>\n",
              "    <tr>\n",
              "      <th>4</th>\n",
              "      <td>0.370000</td>\n",
              "    </tr>\n",
              "    <tr>\n",
              "      <th>5</th>\n",
              "      <td>0.246667</td>\n",
              "    </tr>\n",
              "    <tr>\n",
              "      <th>...</th>\n",
              "      <td>...</td>\n",
              "    </tr>\n",
              "    <tr>\n",
              "      <th>362</th>\n",
              "      <td>0.120000</td>\n",
              "    </tr>\n",
              "    <tr>\n",
              "      <th>363</th>\n",
              "      <td>0.102000</td>\n",
              "    </tr>\n",
              "    <tr>\n",
              "      <th>364</th>\n",
              "      <td>0.268000</td>\n",
              "    </tr>\n",
              "    <tr>\n",
              "      <th>365</th>\n",
              "      <td>0.140000</td>\n",
              "    </tr>\n",
              "    <tr>\n",
              "      <th>366</th>\n",
              "      <td>0.500000</td>\n",
              "    </tr>\n",
              "  </tbody>\n",
              "</table>\n",
              "<p>366 rows × 1 columns</p>\n",
              "</div>"
            ],
            "text/plain": [
              "             precipitation\n",
              "day_of_year               \n",
              "1                 0.052000\n",
              "2                 0.150000\n",
              "3                 0.836000\n",
              "4                 0.370000\n",
              "5                 0.246667\n",
              "...                    ...\n",
              "362               0.120000\n",
              "363               0.102000\n",
              "364               0.268000\n",
              "365               0.140000\n",
              "366               0.500000\n",
              "\n",
              "[366 rows x 1 columns]"
            ]
          },
          "execution_count": 96,
          "metadata": {},
          "output_type": "execute_result"
        }
      ],
      "source": [
        " # Calculate the mean precipitation for each day of the year for Seattle\n",
        "\n",
        "mean_precipitation = df.loc[\n",
        "    df['city']=='SEA',\n",
        "    ['precipitation', 'day_of_year']\n",
        "].groupby('day_of_year').mean()\n",
        "\n",
        "mean_precipitation\n"
      ]
    },
    {
      "cell_type": "code",
      "execution_count": 97,
      "metadata": {},
      "outputs": [
        {
          "data": {
            "image/png": "[encoded data removed]",
            "text/plain": [
              "<Figure size 2000x500 with 1 Axes>"
            ]
          },
          "metadata": {},
          "output_type": "display_data"
        }
      ],
      "source": [
        "# Plot the mean precipitation for each day of the year for Seattle\n",
        "\n",
        "plt.figure(figsize=(20, 5))\n",
        "sns.lineplot(data=mean_precipitation, x='day_of_year', y='precipitation')\n",
        "plt.xlabel('Day of Year')\n",
        "plt.ylabel('Precipitation (inches)') \n",
        "plt.tick_params(labelsize=15)\n",
        "plt.show()"
      ]
    },
    {
      "cell_type": "code",
      "execution_count": 98,
      "metadata": {},
      "outputs": [
        {
          "data": {
            "text/plain": [
              "0       False\n",
              "1       False\n",
              "2       False\n",
              "3       False\n",
              "4       False\n",
              "        ...  \n",
              "3647    False\n",
              "3648    False\n",
              "3649    False\n",
              "3650    False\n",
              "3651    False\n",
              "Name: precipitation, Length: 3652, dtype: bool"
            ]
          },
          "execution_count": 98,
          "metadata": {},
          "output_type": "execute_result"
        }
      ],
      "source": [
        "# Check for null values in the precipitation column\n",
        "df['precipitation'].isna() == True "
      ]
    },
    {
      "cell_type": "code",
      "execution_count": null,
      "metadata": {},
      "outputs": [],
      "source": [
        "# Get the indices of the rows with null values in the precipitation column\n",
        "\n",
        "indices = np.where(df['precipitation'].isna()==True)[0] "
      ]
    },
    {
      "cell_type": "code",
      "execution_count": null,
      "metadata": {},
      "outputs": [],
      "source": [
        "# Replace the null values in precipitation to the mean values\n",
        "\n",
        "for index in indices:   \n",
        "        df.loc[index, 'precipitation'] = mean_precipitation.loc[df.loc[index, 'day_of_year']].values[0] "
      ]
    },
    {
      "cell_type": "code",
      "execution_count": null,
      "metadata": {},
      "outputs": [
        {
          "data": {
            "text/plain": [
              "date             0\n",
              "city             0\n",
              "precipitation    0\n",
              "day_of_year      0\n",
              "dtype: int64"
            ]
          },
          "execution_count": 101,
          "metadata": {},
          "output_type": "execute_result"
        }
      ],
      "source": [
        "# Check for null values in the dataframe\n",
        "\n",
        "df.isna().sum() "
      ]
    },
    {
      "cell_type": "markdown",
      "metadata": {
        "id": "oKGHtonZsZCM"
      },
      "source": [
        "#### Export the clean .csv file"
      ]
    },
    {
      "cell_type": "code",
      "execution_count": null,
      "metadata": {
        "id": "EqBz9TkxKp5-"
      },
      "outputs": [],
      "source": [
        "# Save the cleaned dataframe to a CSV file\n",
        "\n",
        "df.to_csv('../data/clean_seattle_nyc_weather.csv', encoding='utf-8-sig', index=False)"
      ]
    },
    {
      "cell_type": "markdown",
      "metadata": {},
      "source": [
        "The data frame is cleaned and we export the cleaned datafile with name: clean_seattle_nyc_weather.csv to the data folder for futher analysis."
      ]
    }
  ],
  "metadata": {
    "colab": {
      "provenance": [],
      "toc_visible": true
    },
    "kernelspec": {
      "display_name": "base",
      "language": "python",
      "name": "python3"
    },
    "language_info": {
      "codemirror_mode": {
        "name": "ipython",
        "version": 3
      },
      "file_extension": ".py",
      "mimetype": "text/x-python",
      "name": "python",
      "nbconvert_exporter": "python",
      "pygments_lexer": "ipython3",
      "version": "3.12.7"
    }
  },
  "nbformat": 4,
  "nbformat_minor": 0
}
