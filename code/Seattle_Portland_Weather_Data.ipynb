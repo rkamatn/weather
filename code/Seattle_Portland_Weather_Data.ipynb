{
  "cells": [
    {
      "cell_type": "markdown",
      "metadata": {
        "id": "CT4gTNQTh9n1"
      },
      "source": [
        "# Load and explore the data"
      ]
    },
    {
      "cell_type": "markdown",
      "metadata": {
        "id": "dwvtDMCYlPus"
      },
      "source": [
        "## Import libraries"
      ]
    },
    {
      "cell_type": "code",
      "execution_count": 2,
      "metadata": {
        "id": "DQZAzYri_ru5"
      },
      "outputs": [],
      "source": [
        "# Import pandas, numpy, and matplotlib\n",
        "import pandas as pd\n",
        "import numpy as np\n",
        "import matplotlib.pyplot as plt\n",
        "\n",
        "# seaborn is a data visualization library built on matplotlib\n",
        "import seaborn as sns\n",
        "\n",
        "# set the plotting style\n",
        "sns.set_style(\"whitegrid\")"
      ]
    },
    {
      "cell_type": "markdown",
      "metadata": {
        "id": "5qccuG8vy7Ja"
      },
      "source": [
        "## Load the data"
      ]
    },
    {
      "cell_type": "markdown",
      "metadata": {
        "id": "xYdcJWUhIc8U"
      },
      "source": [
        "##### Load the Seattle data set"
      ]
    },
    {
      "cell_type": "code",
      "execution_count": 3,
      "metadata": {},
      "outputs": [
        {
          "data": {
            "text/html": [
              "<div>\n",
              "<style scoped>\n",
              "    .dataframe tbody tr th:only-of-type {\n",
              "        vertical-align: middle;\n",
              "    }\n",
              "\n",
              "    .dataframe tbody tr th {\n",
              "        vertical-align: top;\n",
              "    }\n",
              "\n",
              "    .dataframe thead th {\n",
              "        text-align: right;\n",
              "    }\n",
              "</style>\n",
              "<table border=\"1\" class=\"dataframe\">\n",
              "  <thead>\n",
              "    <tr style=\"text-align: right;\">\n",
              "      <th></th>\n",
              "      <th>STATION</th>\n",
              "      <th>NAME</th>\n",
              "      <th>DATE</th>\n",
              "      <th>DAPR</th>\n",
              "      <th>MDPR</th>\n",
              "      <th>PRCP</th>\n",
              "      <th>SNOW</th>\n",
              "      <th>SNWD</th>\n",
              "      <th>WESD</th>\n",
              "      <th>WESF</th>\n",
              "    </tr>\n",
              "  </thead>\n",
              "  <tbody>\n",
              "    <tr>\n",
              "      <th>0</th>\n",
              "      <td>US1WAKG0225</td>\n",
              "      <td>SEATTLE 2.1 ESE, WA US</td>\n",
              "      <td>1/1/18</td>\n",
              "      <td>NaN</td>\n",
              "      <td>NaN</td>\n",
              "      <td>0.00</td>\n",
              "      <td>NaN</td>\n",
              "      <td>NaN</td>\n",
              "      <td>NaN</td>\n",
              "      <td>NaN</td>\n",
              "    </tr>\n",
              "    <tr>\n",
              "      <th>1</th>\n",
              "      <td>US1WAKG0225</td>\n",
              "      <td>SEATTLE 2.1 ESE, WA US</td>\n",
              "      <td>1/2/18</td>\n",
              "      <td>NaN</td>\n",
              "      <td>NaN</td>\n",
              "      <td>0.00</td>\n",
              "      <td>NaN</td>\n",
              "      <td>NaN</td>\n",
              "      <td>NaN</td>\n",
              "      <td>NaN</td>\n",
              "    </tr>\n",
              "    <tr>\n",
              "      <th>2</th>\n",
              "      <td>US1WAKG0225</td>\n",
              "      <td>SEATTLE 2.1 ESE, WA US</td>\n",
              "      <td>1/3/18</td>\n",
              "      <td>NaN</td>\n",
              "      <td>NaN</td>\n",
              "      <td>0.00</td>\n",
              "      <td>NaN</td>\n",
              "      <td>NaN</td>\n",
              "      <td>NaN</td>\n",
              "      <td>NaN</td>\n",
              "    </tr>\n",
              "    <tr>\n",
              "      <th>3</th>\n",
              "      <td>US1WAKG0225</td>\n",
              "      <td>SEATTLE 2.1 ESE, WA US</td>\n",
              "      <td>1/4/18</td>\n",
              "      <td>NaN</td>\n",
              "      <td>NaN</td>\n",
              "      <td>0.00</td>\n",
              "      <td>NaN</td>\n",
              "      <td>NaN</td>\n",
              "      <td>NaN</td>\n",
              "      <td>NaN</td>\n",
              "    </tr>\n",
              "    <tr>\n",
              "      <th>4</th>\n",
              "      <td>US1WAKG0225</td>\n",
              "      <td>SEATTLE 2.1 ESE, WA US</td>\n",
              "      <td>1/5/18</td>\n",
              "      <td>NaN</td>\n",
              "      <td>NaN</td>\n",
              "      <td>0.25</td>\n",
              "      <td>NaN</td>\n",
              "      <td>NaN</td>\n",
              "      <td>NaN</td>\n",
              "      <td>NaN</td>\n",
              "    </tr>\n",
              "  </tbody>\n",
              "</table>\n",
              "</div>"
            ],
            "text/plain": [
              "       STATION                    NAME    DATE  DAPR  MDPR  PRCP  SNOW  SNWD  \\\n",
              "0  US1WAKG0225  SEATTLE 2.1 ESE, WA US  1/1/18   NaN   NaN  0.00   NaN   NaN   \n",
              "1  US1WAKG0225  SEATTLE 2.1 ESE, WA US  1/2/18   NaN   NaN  0.00   NaN   NaN   \n",
              "2  US1WAKG0225  SEATTLE 2.1 ESE, WA US  1/3/18   NaN   NaN  0.00   NaN   NaN   \n",
              "3  US1WAKG0225  SEATTLE 2.1 ESE, WA US  1/4/18   NaN   NaN  0.00   NaN   NaN   \n",
              "4  US1WAKG0225  SEATTLE 2.1 ESE, WA US  1/5/18   NaN   NaN  0.25   NaN   NaN   \n",
              "\n",
              "   WESD  WESF  \n",
              "0   NaN   NaN  \n",
              "1   NaN   NaN  \n",
              "2   NaN   NaN  \n",
              "3   NaN   NaN  \n",
              "4   NaN   NaN  "
            ]
          },
          "execution_count": 3,
          "metadata": {},
          "output_type": "execute_result"
        }
      ],
      "source": [
        "df_seattle=pd.read_csv('../data/seattle_rain.csv') #Load the Seattle weather data\n",
        "df_seattle.head() #Display the first 5 rows of the dataframe"
      ]
    },
    {
      "cell_type": "markdown",
      "metadata": {
        "id": "YI_VqZ2-JI2_"
      },
      "source": [
        "##### Load the Portland data set"
      ]
    },
    {
      "cell_type": "code",
      "execution_count": 4,
      "metadata": {},
      "outputs": [
        {
          "data": {
            "text/html": [
              "<div>\n",
              "<style scoped>\n",
              "    .dataframe tbody tr th:only-of-type {\n",
              "        vertical-align: middle;\n",
              "    }\n",
              "\n",
              "    .dataframe tbody tr th {\n",
              "        vertical-align: top;\n",
              "    }\n",
              "\n",
              "    .dataframe thead th {\n",
              "        text-align: right;\n",
              "    }\n",
              "</style>\n",
              "<table border=\"1\" class=\"dataframe\">\n",
              "  <thead>\n",
              "    <tr style=\"text-align: right;\">\n",
              "      <th></th>\n",
              "      <th>STATION</th>\n",
              "      <th>NAME</th>\n",
              "      <th>DATE</th>\n",
              "      <th>PRCP</th>\n",
              "      <th>SNOW</th>\n",
              "      <th>SNWD</th>\n",
              "    </tr>\n",
              "  </thead>\n",
              "  <tbody>\n",
              "    <tr>\n",
              "      <th>0</th>\n",
              "      <td>USW00024229</td>\n",
              "      <td>PORTLAND INTERNATIONAL AIRPORT, OR US</td>\n",
              "      <td>2018-01-01</td>\n",
              "      <td>0.00</td>\n",
              "      <td>0.0</td>\n",
              "      <td>0.0</td>\n",
              "    </tr>\n",
              "    <tr>\n",
              "      <th>1</th>\n",
              "      <td>USW00024229</td>\n",
              "      <td>PORTLAND INTERNATIONAL AIRPORT, OR US</td>\n",
              "      <td>2018-01-02</td>\n",
              "      <td>0.00</td>\n",
              "      <td>0.0</td>\n",
              "      <td>0.0</td>\n",
              "    </tr>\n",
              "    <tr>\n",
              "      <th>2</th>\n",
              "      <td>USW00024229</td>\n",
              "      <td>PORTLAND INTERNATIONAL AIRPORT, OR US</td>\n",
              "      <td>2018-01-03</td>\n",
              "      <td>0.00</td>\n",
              "      <td>0.0</td>\n",
              "      <td>0.0</td>\n",
              "    </tr>\n",
              "    <tr>\n",
              "      <th>3</th>\n",
              "      <td>USW00024229</td>\n",
              "      <td>PORTLAND INTERNATIONAL AIRPORT, OR US</td>\n",
              "      <td>2018-01-04</td>\n",
              "      <td>0.05</td>\n",
              "      <td>0.0</td>\n",
              "      <td>0.0</td>\n",
              "    </tr>\n",
              "    <tr>\n",
              "      <th>4</th>\n",
              "      <td>USW00024229</td>\n",
              "      <td>PORTLAND INTERNATIONAL AIRPORT, OR US</td>\n",
              "      <td>2018-01-05</td>\n",
              "      <td>0.22</td>\n",
              "      <td>0.0</td>\n",
              "      <td>0.0</td>\n",
              "    </tr>\n",
              "  </tbody>\n",
              "</table>\n",
              "</div>"
            ],
            "text/plain": [
              "       STATION                                   NAME        DATE  PRCP  SNOW  \\\n",
              "0  USW00024229  PORTLAND INTERNATIONAL AIRPORT, OR US  2018-01-01  0.00   0.0   \n",
              "1  USW00024229  PORTLAND INTERNATIONAL AIRPORT, OR US  2018-01-02  0.00   0.0   \n",
              "2  USW00024229  PORTLAND INTERNATIONAL AIRPORT, OR US  2018-01-03  0.00   0.0   \n",
              "3  USW00024229  PORTLAND INTERNATIONAL AIRPORT, OR US  2018-01-04  0.05   0.0   \n",
              "4  USW00024229  PORTLAND INTERNATIONAL AIRPORT, OR US  2018-01-05  0.22   0.0   \n",
              "\n",
              "   SNWD  \n",
              "0   0.0  \n",
              "1   0.0  \n",
              "2   0.0  \n",
              "3   0.0  \n",
              "4   0.0  "
            ]
          },
          "execution_count": 4,
          "metadata": {},
          "output_type": "execute_result"
        }
      ],
      "source": [
        "df_portland=pd.read_csv('../data/portland_rain.csv') #load the Portland weather data\n",
        "df_portland.head() #Display the first 5 rows of the dataframe"
      ]
    },
    {
      "cell_type": "markdown",
      "metadata": {
        "id": "OHVSgzXFd4nf"
      },
      "source": [
        "## Explore the contents of the data sets"
      ]
    },
    {
      "cell_type": "markdown",
      "metadata": {
        "id": "gYxy4Sy6d9_j"
      },
      "source": [
        "##### Start by looking at the head of each data frame.\n",
        "\n",
        "This will let us see the names of the columns and a few example values for each column."
      ]
    },
    {
      "cell_type": "code",
      "execution_count": 5,
      "metadata": {},
      "outputs": [
        {
          "data": {
            "text/html": [
              "<div>\n",
              "<style scoped>\n",
              "    .dataframe tbody tr th:only-of-type {\n",
              "        vertical-align: middle;\n",
              "    }\n",
              "\n",
              "    .dataframe tbody tr th {\n",
              "        vertical-align: top;\n",
              "    }\n",
              "\n",
              "    .dataframe thead th {\n",
              "        text-align: right;\n",
              "    }\n",
              "</style>\n",
              "<table border=\"1\" class=\"dataframe\">\n",
              "  <thead>\n",
              "    <tr style=\"text-align: right;\">\n",
              "      <th></th>\n",
              "      <th>STATION</th>\n",
              "      <th>NAME</th>\n",
              "      <th>DATE</th>\n",
              "      <th>DAPR</th>\n",
              "      <th>MDPR</th>\n",
              "      <th>PRCP</th>\n",
              "      <th>SNOW</th>\n",
              "      <th>SNWD</th>\n",
              "      <th>WESD</th>\n",
              "      <th>WESF</th>\n",
              "    </tr>\n",
              "  </thead>\n",
              "  <tbody>\n",
              "    <tr>\n",
              "      <th>0</th>\n",
              "      <td>US1WAKG0225</td>\n",
              "      <td>SEATTLE 2.1 ESE, WA US</td>\n",
              "      <td>1/1/18</td>\n",
              "      <td>NaN</td>\n",
              "      <td>NaN</td>\n",
              "      <td>0.00</td>\n",
              "      <td>NaN</td>\n",
              "      <td>NaN</td>\n",
              "      <td>NaN</td>\n",
              "      <td>NaN</td>\n",
              "    </tr>\n",
              "    <tr>\n",
              "      <th>1</th>\n",
              "      <td>US1WAKG0225</td>\n",
              "      <td>SEATTLE 2.1 ESE, WA US</td>\n",
              "      <td>1/2/18</td>\n",
              "      <td>NaN</td>\n",
              "      <td>NaN</td>\n",
              "      <td>0.00</td>\n",
              "      <td>NaN</td>\n",
              "      <td>NaN</td>\n",
              "      <td>NaN</td>\n",
              "      <td>NaN</td>\n",
              "    </tr>\n",
              "    <tr>\n",
              "      <th>2</th>\n",
              "      <td>US1WAKG0225</td>\n",
              "      <td>SEATTLE 2.1 ESE, WA US</td>\n",
              "      <td>1/3/18</td>\n",
              "      <td>NaN</td>\n",
              "      <td>NaN</td>\n",
              "      <td>0.00</td>\n",
              "      <td>NaN</td>\n",
              "      <td>NaN</td>\n",
              "      <td>NaN</td>\n",
              "      <td>NaN</td>\n",
              "    </tr>\n",
              "    <tr>\n",
              "      <th>3</th>\n",
              "      <td>US1WAKG0225</td>\n",
              "      <td>SEATTLE 2.1 ESE, WA US</td>\n",
              "      <td>1/4/18</td>\n",
              "      <td>NaN</td>\n",
              "      <td>NaN</td>\n",
              "      <td>0.00</td>\n",
              "      <td>NaN</td>\n",
              "      <td>NaN</td>\n",
              "      <td>NaN</td>\n",
              "      <td>NaN</td>\n",
              "    </tr>\n",
              "    <tr>\n",
              "      <th>4</th>\n",
              "      <td>US1WAKG0225</td>\n",
              "      <td>SEATTLE 2.1 ESE, WA US</td>\n",
              "      <td>1/5/18</td>\n",
              "      <td>NaN</td>\n",
              "      <td>NaN</td>\n",
              "      <td>0.25</td>\n",
              "      <td>NaN</td>\n",
              "      <td>NaN</td>\n",
              "      <td>NaN</td>\n",
              "      <td>NaN</td>\n",
              "    </tr>\n",
              "  </tbody>\n",
              "</table>\n",
              "</div>"
            ],
            "text/plain": [
              "       STATION                    NAME    DATE  DAPR  MDPR  PRCP  SNOW  SNWD  \\\n",
              "0  US1WAKG0225  SEATTLE 2.1 ESE, WA US  1/1/18   NaN   NaN  0.00   NaN   NaN   \n",
              "1  US1WAKG0225  SEATTLE 2.1 ESE, WA US  1/2/18   NaN   NaN  0.00   NaN   NaN   \n",
              "2  US1WAKG0225  SEATTLE 2.1 ESE, WA US  1/3/18   NaN   NaN  0.00   NaN   NaN   \n",
              "3  US1WAKG0225  SEATTLE 2.1 ESE, WA US  1/4/18   NaN   NaN  0.00   NaN   NaN   \n",
              "4  US1WAKG0225  SEATTLE 2.1 ESE, WA US  1/5/18   NaN   NaN  0.25   NaN   NaN   \n",
              "\n",
              "   WESD  WESF  \n",
              "0   NaN   NaN  \n",
              "1   NaN   NaN  \n",
              "2   NaN   NaN  \n",
              "3   NaN   NaN  \n",
              "4   NaN   NaN  "
            ]
          },
          "execution_count": 5,
          "metadata": {},
          "output_type": "execute_result"
        }
      ],
      "source": [
        "df_seattle.head()"
      ]
    },
    {
      "cell_type": "code",
      "execution_count": 6,
      "metadata": {},
      "outputs": [
        {
          "data": {
            "text/html": [
              "<div>\n",
              "<style scoped>\n",
              "    .dataframe tbody tr th:only-of-type {\n",
              "        vertical-align: middle;\n",
              "    }\n",
              "\n",
              "    .dataframe tbody tr th {\n",
              "        vertical-align: top;\n",
              "    }\n",
              "\n",
              "    .dataframe thead th {\n",
              "        text-align: right;\n",
              "    }\n",
              "</style>\n",
              "<table border=\"1\" class=\"dataframe\">\n",
              "  <thead>\n",
              "    <tr style=\"text-align: right;\">\n",
              "      <th></th>\n",
              "      <th>STATION</th>\n",
              "      <th>NAME</th>\n",
              "      <th>DATE</th>\n",
              "      <th>PRCP</th>\n",
              "      <th>SNOW</th>\n",
              "      <th>SNWD</th>\n",
              "    </tr>\n",
              "  </thead>\n",
              "  <tbody>\n",
              "    <tr>\n",
              "      <th>0</th>\n",
              "      <td>USW00024229</td>\n",
              "      <td>PORTLAND INTERNATIONAL AIRPORT, OR US</td>\n",
              "      <td>2018-01-01</td>\n",
              "      <td>0.00</td>\n",
              "      <td>0.0</td>\n",
              "      <td>0.0</td>\n",
              "    </tr>\n",
              "    <tr>\n",
              "      <th>1</th>\n",
              "      <td>USW00024229</td>\n",
              "      <td>PORTLAND INTERNATIONAL AIRPORT, OR US</td>\n",
              "      <td>2018-01-02</td>\n",
              "      <td>0.00</td>\n",
              "      <td>0.0</td>\n",
              "      <td>0.0</td>\n",
              "    </tr>\n",
              "    <tr>\n",
              "      <th>2</th>\n",
              "      <td>USW00024229</td>\n",
              "      <td>PORTLAND INTERNATIONAL AIRPORT, OR US</td>\n",
              "      <td>2018-01-03</td>\n",
              "      <td>0.00</td>\n",
              "      <td>0.0</td>\n",
              "      <td>0.0</td>\n",
              "    </tr>\n",
              "    <tr>\n",
              "      <th>3</th>\n",
              "      <td>USW00024229</td>\n",
              "      <td>PORTLAND INTERNATIONAL AIRPORT, OR US</td>\n",
              "      <td>2018-01-04</td>\n",
              "      <td>0.05</td>\n",
              "      <td>0.0</td>\n",
              "      <td>0.0</td>\n",
              "    </tr>\n",
              "    <tr>\n",
              "      <th>4</th>\n",
              "      <td>USW00024229</td>\n",
              "      <td>PORTLAND INTERNATIONAL AIRPORT, OR US</td>\n",
              "      <td>2018-01-05</td>\n",
              "      <td>0.22</td>\n",
              "      <td>0.0</td>\n",
              "      <td>0.0</td>\n",
              "    </tr>\n",
              "  </tbody>\n",
              "</table>\n",
              "</div>"
            ],
            "text/plain": [
              "       STATION                                   NAME        DATE  PRCP  SNOW  \\\n",
              "0  USW00024229  PORTLAND INTERNATIONAL AIRPORT, OR US  2018-01-01  0.00   0.0   \n",
              "1  USW00024229  PORTLAND INTERNATIONAL AIRPORT, OR US  2018-01-02  0.00   0.0   \n",
              "2  USW00024229  PORTLAND INTERNATIONAL AIRPORT, OR US  2018-01-03  0.00   0.0   \n",
              "3  USW00024229  PORTLAND INTERNATIONAL AIRPORT, OR US  2018-01-04  0.05   0.0   \n",
              "4  USW00024229  PORTLAND INTERNATIONAL AIRPORT, OR US  2018-01-05  0.22   0.0   \n",
              "\n",
              "   SNWD  \n",
              "0   0.0  \n",
              "1   0.0  \n",
              "2   0.0  \n",
              "3   0.0  \n",
              "4   0.0  "
            ]
          },
          "execution_count": 6,
          "metadata": {},
          "output_type": "execute_result"
        }
      ],
      "source": [
        "df_portland.head()"
      ]
    },
    {
      "cell_type": "markdown",
      "metadata": {
        "id": "El2gEjGnBtyy"
      },
      "source": [
        "##### Examine more rows"
      ]
    },
    {
      "cell_type": "code",
      "execution_count": 7,
      "metadata": {},
      "outputs": [
        {
          "data": {
            "text/plain": [
              "Index(['STATION', 'NAME', 'DATE', 'DAPR', 'MDPR', 'PRCP', 'SNOW', 'SNWD',\n",
              "       'WESD', 'WESF'],\n",
              "      dtype='object')"
            ]
          },
          "execution_count": 7,
          "metadata": {},
          "output_type": "execute_result"
        }
      ],
      "source": [
        "df_seattle.columns #List the column names in the Seattle dataframe"
      ]
    },
    {
      "cell_type": "code",
      "execution_count": 8,
      "metadata": {},
      "outputs": [
        {
          "data": {
            "text/plain": [
              "Index(['STATION', 'NAME', 'DATE', 'PRCP', 'SNOW', 'SNWD'], dtype='object')"
            ]
          },
          "execution_count": 8,
          "metadata": {},
          "output_type": "execute_result"
        }
      ],
      "source": [
        "df_portland.columns #List the column names in the Portland dataframe"
      ]
    },
    {
      "cell_type": "markdown",
      "metadata": {
        "id": "e0IEtgl8eRkv"
      },
      "source": [
        "##### Use the `info` method to check the data types, size of the data frame, and numbers of missing values."
      ]
    },
    {
      "cell_type": "code",
      "execution_count": 9,
      "metadata": {},
      "outputs": [
        {
          "name": "stdout",
          "output_type": "stream",
          "text": [
            "<class 'pandas.core.frame.DataFrame'>\n",
            "RangeIndex: 1658 entries, 0 to 1657\n",
            "Data columns (total 10 columns):\n",
            " #   Column   Non-Null Count  Dtype  \n",
            "---  ------   --------------  -----  \n",
            " 0   STATION  1658 non-null   object \n",
            " 1   NAME     1658 non-null   object \n",
            " 2   DATE     1658 non-null   object \n",
            " 3   DAPR     23 non-null     float64\n",
            " 4   MDPR     23 non-null     float64\n",
            " 5   PRCP     1636 non-null   float64\n",
            " 6   SNOW     353 non-null    float64\n",
            " 7   SNWD     66 non-null     float64\n",
            " 8   WESD     15 non-null     float64\n",
            " 9   WESF     28 non-null     float64\n",
            "dtypes: float64(7), object(3)\n",
            "memory usage: 129.7+ KB\n"
          ]
        }
      ],
      "source": [
        "df_seattle.info()"
      ]
    },
    {
      "cell_type": "markdown",
      "metadata": {
        "id": "n9ZuQl9HB-mA"
      },
      "source": [
        "##### Portland data set"
      ]
    },
    {
      "cell_type": "code",
      "execution_count": 10,
      "metadata": {},
      "outputs": [
        {
          "name": "stdout",
          "output_type": "stream",
          "text": [
            "<class 'pandas.core.frame.DataFrame'>\n",
            "RangeIndex: 1826 entries, 0 to 1825\n",
            "Data columns (total 6 columns):\n",
            " #   Column   Non-Null Count  Dtype  \n",
            "---  ------   --------------  -----  \n",
            " 0   STATION  1826 non-null   object \n",
            " 1   NAME     1826 non-null   object \n",
            " 2   DATE     1826 non-null   object \n",
            " 3   PRCP     1826 non-null   float64\n",
            " 4   SNOW     1826 non-null   float64\n",
            " 5   SNWD     1826 non-null   float64\n",
            "dtypes: float64(3), object(3)\n",
            "memory usage: 85.7+ KB\n"
          ]
        }
      ],
      "source": [
        "df_portland.info()"
      ]
    },
    {
      "cell_type": "markdown",
      "metadata": {
        "id": "RxbRRmQRMYZd"
      },
      "source": [
        "##### We can also compare data frame sizes using the shape attribute"
      ]
    },
    {
      "cell_type": "code",
      "execution_count": 11,
      "metadata": {},
      "outputs": [
        {
          "data": {
            "text/plain": [
              "(1658, 10)"
            ]
          },
          "execution_count": 11,
          "metadata": {},
          "output_type": "execute_result"
        }
      ],
      "source": [
        "df_seattle.shape"
      ]
    },
    {
      "cell_type": "code",
      "execution_count": 12,
      "metadata": {},
      "outputs": [
        {
          "data": {
            "text/plain": [
              "(1826, 6)"
            ]
          },
          "execution_count": 12,
          "metadata": {},
          "output_type": "execute_result"
        }
      ],
      "source": [
        "df_portland.shape"
      ]
    },
    {
      "cell_type": "markdown",
      "metadata": {
        "id": "wLtJTlMLMthz"
      },
      "source": [
        "#### Examine the `STATION` column"
      ]
    },
    {
      "cell_type": "code",
      "execution_count": 13,
      "metadata": {},
      "outputs": [
        {
          "data": {
            "text/plain": [
              "0       US1WAKG0225\n",
              "1       US1WAKG0225\n",
              "2       US1WAKG0225\n",
              "3       US1WAKG0225\n",
              "4       US1WAKG0225\n",
              "           ...     \n",
              "1653    US1WAKG0225\n",
              "1654    US1WAKG0225\n",
              "1655    US1WAKG0225\n",
              "1656    US1WAKG0225\n",
              "1657    US1WAKG0225\n",
              "Name: STATION, Length: 1658, dtype: object"
            ]
          },
          "execution_count": 13,
          "metadata": {},
          "output_type": "execute_result"
        }
      ],
      "source": [
        "df_seattle[\"STATION\"] "
      ]
    },
    {
      "cell_type": "code",
      "execution_count": 14,
      "metadata": {},
      "outputs": [
        {
          "data": {
            "text/plain": [
              "0       USW00024229\n",
              "1       USW00024229\n",
              "2       USW00024229\n",
              "3       USW00024229\n",
              "4       USW00024229\n",
              "           ...     \n",
              "1821    USW00024229\n",
              "1822    USW00024229\n",
              "1823    USW00024229\n",
              "1824    USW00024229\n",
              "1825    USW00024229\n",
              "Name: STATION, Length: 1826, dtype: object"
            ]
          },
          "execution_count": 14,
          "metadata": {},
          "output_type": "execute_result"
        }
      ],
      "source": [
        "df_portland[\"STATION\"]"
      ]
    },
    {
      "cell_type": "markdown",
      "metadata": {
        "id": "T5cUb34RM4Ky"
      },
      "source": [
        "##### How many unique stations are present?"
      ]
    },
    {
      "cell_type": "code",
      "execution_count": 15,
      "metadata": {},
      "outputs": [
        {
          "data": {
            "text/plain": [
              "array(['US1WAKG0225'], dtype=object)"
            ]
          },
          "execution_count": 15,
          "metadata": {},
          "output_type": "execute_result"
        }
      ],
      "source": [
        "df_seattle['STATION'].unique()"
      ]
    },
    {
      "cell_type": "code",
      "execution_count": 16,
      "metadata": {},
      "outputs": [
        {
          "data": {
            "text/plain": [
              "array(['USW00024229'], dtype=object)"
            ]
          },
          "execution_count": 16,
          "metadata": {},
          "output_type": "execute_result"
        }
      ],
      "source": [
        "df_portland['STATION'].unique()\n"
      ]
    },
    {
      "cell_type": "markdown",
      "metadata": {
        "id": "w0-RCjYSNSrt"
      },
      "source": [
        "#### Examine the `DATE` column"
      ]
    },
    {
      "cell_type": "code",
      "execution_count": 17,
      "metadata": {},
      "outputs": [
        {
          "data": {
            "text/plain": [
              "0       2018-01-01\n",
              "1       2018-01-02\n",
              "2       2018-01-03\n",
              "3       2018-01-04\n",
              "4       2018-01-05\n",
              "           ...    \n",
              "1821    2022-12-27\n",
              "1822    2022-12-28\n",
              "1823    2022-12-29\n",
              "1824    2022-12-30\n",
              "1825    2022-12-31\n",
              "Name: DATE, Length: 1826, dtype: object"
            ]
          },
          "execution_count": 17,
          "metadata": {},
          "output_type": "execute_result"
        }
      ],
      "source": [
        "df_portland['DATE']"
      ]
    },
    {
      "cell_type": "markdown",
      "metadata": {
        "id": "m2ifRKAEN0pX"
      },
      "source": [
        "### Be careful to use correct data types"
      ]
    },
    {
      "cell_type": "code",
      "execution_count": 18,
      "metadata": {},
      "outputs": [
        {
          "data": {
            "text/plain": [
              "0         1/1/18\n",
              "1         1/2/18\n",
              "2         1/3/18\n",
              "3         1/4/18\n",
              "4         1/5/18\n",
              "          ...   \n",
              "1653    12/27/22\n",
              "1654    12/28/22\n",
              "1655    12/29/22\n",
              "1656    12/30/22\n",
              "1657    12/31/22\n",
              "Name: DATE, Length: 1658, dtype: object"
            ]
          },
          "execution_count": 18,
          "metadata": {},
          "output_type": "execute_result"
        }
      ],
      "source": [
        "df_seattle['DATE']"
      ]
    },
    {
      "cell_type": "markdown",
      "metadata": {
        "id": "9xo4fNHiNoID"
      },
      "source": [
        "### Convert `DATE` to datetime"
      ]
    },
    {
      "cell_type": "code",
      "execution_count": 19,
      "metadata": {},
      "outputs": [
        {
          "name": "stderr",
          "output_type": "stream",
          "text": [
            "/var/folders/9v/5yh40h_55xv50xhdsn75mt000000gn/T/ipykernel_24493/2717313284.py:1: UserWarning: Could not infer format, so each element will be parsed individually, falling back to `dateutil`. To ensure parsing is consistent and as-expected, please specify a format.\n",
            "  df_seattle['DATE']=pd.to_datetime(df_seattle['DATE']) #Convert the DATE column to datetime format\n"
          ]
        },
        {
          "data": {
            "text/plain": [
              "0      2018-01-01\n",
              "1      2018-01-02\n",
              "2      2018-01-03\n",
              "3      2018-01-04\n",
              "4      2018-01-05\n",
              "          ...    \n",
              "1653   2022-12-27\n",
              "1654   2022-12-28\n",
              "1655   2022-12-29\n",
              "1656   2022-12-30\n",
              "1657   2022-12-31\n",
              "Name: DATE, Length: 1658, dtype: datetime64[ns]"
            ]
          },
          "execution_count": 19,
          "metadata": {},
          "output_type": "execute_result"
        }
      ],
      "source": [
        "df_seattle['DATE']=pd.to_datetime(df_seattle['DATE']) #Convert the DATE column to datetime format\n",
        "df_seattle['DATE']"
      ]
    },
    {
      "cell_type": "code",
      "execution_count": 20,
      "metadata": {},
      "outputs": [
        {
          "data": {
            "text/plain": [
              "0      2018-01-01\n",
              "1      2018-01-02\n",
              "2      2018-01-03\n",
              "3      2018-01-04\n",
              "4      2018-01-05\n",
              "          ...    \n",
              "1821   2022-12-27\n",
              "1822   2022-12-28\n",
              "1823   2022-12-29\n",
              "1824   2022-12-30\n",
              "1825   2022-12-31\n",
              "Name: DATE, Length: 1826, dtype: datetime64[ns]"
            ]
          },
          "execution_count": 20,
          "metadata": {},
          "output_type": "execute_result"
        }
      ],
      "source": [
        "df_portland['DATE']=pd.to_datetime(df_portland['DATE']) #Convert the DATE column to datetime format\n",
        "df_portland['DATE']"
      ]
    },
    {
      "cell_type": "markdown",
      "metadata": {
        "id": "ynybUlKfQNFq"
      },
      "source": [
        "### What range of dates are present?"
      ]
    },
    {
      "cell_type": "code",
      "execution_count": 21,
      "metadata": {},
      "outputs": [
        {
          "data": {
            "text/plain": [
              "min   2018-01-01\n",
              "max   2022-12-31\n",
              "Name: DATE, dtype: datetime64[ns]"
            ]
          },
          "execution_count": 21,
          "metadata": {},
          "output_type": "execute_result"
        }
      ],
      "source": [
        "df_seattle[\"DATE\"].agg(['min','max']) #Find the minimum and maximum dates in the Seattle dataframe"
      ]
    },
    {
      "cell_type": "code",
      "execution_count": 22,
      "metadata": {},
      "outputs": [
        {
          "data": {
            "text/plain": [
              "min   2018-01-01\n",
              "max   2022-12-31\n",
              "Name: DATE, dtype: datetime64[ns]"
            ]
          },
          "execution_count": 22,
          "metadata": {},
          "output_type": "execute_result"
        }
      ],
      "source": [
        "df_portland[\"DATE\"].agg(['min','max']) #Find the minimum and maximum dates in the Portland dataframe"
      ]
    },
    {
      "cell_type": "markdown",
      "metadata": {
        "id": "UCVBxFyURV9L"
      },
      "source": [
        "### Are the data suitable for answering the question?"
      ]
    },
    {
      "cell_type": "markdown",
      "metadata": {
        "id": "nwO8wa426gF8"
      },
      "source": [
        "Plot the daily precipitation data for Seattle."
      ]
    },
    {
      "cell_type": "code",
      "execution_count": 23,
      "metadata": {},
      "outputs": [
        {
          "data": {
            "image/png": "[encoded data removed]",
            "text/plain": [
              "<Figure size 2000x500 with 1 Axes>"
            ]
          },
          "metadata": {},
          "output_type": "display_data"
        }
      ],
      "source": [
        "plt.figure(figsize=(20,5))\n",
        "sns.lineplot(data=df_seattle,x=\"DATE\",y=\"PRCP\")\n",
        "plt.xlabel(\"Date\",fontsize=18)\n",
        "plt.ylabel(\"PRCP (inches)\",fontsize=18) \n",
        "plt.title(\"Seattle Rain Data\")\n",
        "plt.tick_params(labelsize=15)\n",
        "plt.show()"
      ]
    },
    {
      "cell_type": "markdown",
      "metadata": {
        "id": "09DgwEWbSLod"
      },
      "source": [
        "##### Plot the daily precipitation data for Portland"
      ]
    },
    {
      "cell_type": "code",
      "execution_count": 24,
      "metadata": {},
      "outputs": [
        {
          "data": {
            "image/png": "[encoded data removed]",
            "text/plain": [
              "<Figure size 2000x500 with 1 Axes>"
            ]
          },
          "metadata": {},
          "output_type": "display_data"
        }
      ],
      "source": [
        "plt.figure(figsize=(20,5))\n",
        "sns.lineplot(data=df_portland,x=\"DATE\",y=\"PRCP\")\n",
        "plt.xlabel(\"Date\")\n",
        "plt.ylabel(\"PRCP (inches)\") \n",
        "plt.title(\"Portland Rain Data\")\n",
        "plt.tick_params(labelsize=15)\n",
        "plt.show()"
      ]
    },
    {
      "cell_type": "code",
      "execution_count": 25,
      "metadata": {},
      "outputs": [
        {
          "data": {
            "text/html": [
              "<div>\n",
              "<style scoped>\n",
              "    .dataframe tbody tr th:only-of-type {\n",
              "        vertical-align: middle;\n",
              "    }\n",
              "\n",
              "    .dataframe tbody tr th {\n",
              "        vertical-align: top;\n",
              "    }\n",
              "\n",
              "    .dataframe thead th {\n",
              "        text-align: right;\n",
              "    }\n",
              "</style>\n",
              "<table border=\"1\" class=\"dataframe\">\n",
              "  <thead>\n",
              "    <tr style=\"text-align: right;\">\n",
              "      <th></th>\n",
              "      <th>STATION</th>\n",
              "      <th>NAME</th>\n",
              "      <th>DATE</th>\n",
              "      <th>DAPR</th>\n",
              "      <th>MDPR</th>\n",
              "      <th>PRCP</th>\n",
              "      <th>SNOW</th>\n",
              "      <th>SNWD</th>\n",
              "      <th>WESD</th>\n",
              "      <th>WESF</th>\n",
              "    </tr>\n",
              "  </thead>\n",
              "  <tbody>\n",
              "    <tr>\n",
              "      <th>0</th>\n",
              "      <td>US1WAKG0225</td>\n",
              "      <td>SEATTLE 2.1 ESE, WA US</td>\n",
              "      <td>2018-01-01</td>\n",
              "      <td>NaN</td>\n",
              "      <td>NaN</td>\n",
              "      <td>0.0</td>\n",
              "      <td>NaN</td>\n",
              "      <td>NaN</td>\n",
              "      <td>NaN</td>\n",
              "      <td>NaN</td>\n",
              "    </tr>\n",
              "    <tr>\n",
              "      <th>1</th>\n",
              "      <td>US1WAKG0225</td>\n",
              "      <td>SEATTLE 2.1 ESE, WA US</td>\n",
              "      <td>2018-01-02</td>\n",
              "      <td>NaN</td>\n",
              "      <td>NaN</td>\n",
              "      <td>0.0</td>\n",
              "      <td>NaN</td>\n",
              "      <td>NaN</td>\n",
              "      <td>NaN</td>\n",
              "      <td>NaN</td>\n",
              "    </tr>\n",
              "    <tr>\n",
              "      <th>2</th>\n",
              "      <td>US1WAKG0225</td>\n",
              "      <td>SEATTLE 2.1 ESE, WA US</td>\n",
              "      <td>2018-01-03</td>\n",
              "      <td>NaN</td>\n",
              "      <td>NaN</td>\n",
              "      <td>0.0</td>\n",
              "      <td>NaN</td>\n",
              "      <td>NaN</td>\n",
              "      <td>NaN</td>\n",
              "      <td>NaN</td>\n",
              "    </tr>\n",
              "  </tbody>\n",
              "</table>\n",
              "</div>"
            ],
            "text/plain": [
              "       STATION                    NAME       DATE  DAPR  MDPR  PRCP  SNOW  \\\n",
              "0  US1WAKG0225  SEATTLE 2.1 ESE, WA US 2018-01-01   NaN   NaN   0.0   NaN   \n",
              "1  US1WAKG0225  SEATTLE 2.1 ESE, WA US 2018-01-02   NaN   NaN   0.0   NaN   \n",
              "2  US1WAKG0225  SEATTLE 2.1 ESE, WA US 2018-01-03   NaN   NaN   0.0   NaN   \n",
              "\n",
              "   SNWD  WESD  WESF  \n",
              "0   NaN   NaN   NaN  \n",
              "1   NaN   NaN   NaN  \n",
              "2   NaN   NaN   NaN  "
            ]
          },
          "execution_count": 25,
          "metadata": {},
          "output_type": "execute_result"
        }
      ],
      "source": [
        "df_seattle.head(3) #Display the first 3 rows of the dataframe"
      ]
    },
    {
      "cell_type": "code",
      "execution_count": 26,
      "metadata": {},
      "outputs": [
        {
          "data": {
            "text/html": [
              "<div>\n",
              "<style scoped>\n",
              "    .dataframe tbody tr th:only-of-type {\n",
              "        vertical-align: middle;\n",
              "    }\n",
              "\n",
              "    .dataframe tbody tr th {\n",
              "        vertical-align: top;\n",
              "    }\n",
              "\n",
              "    .dataframe thead th {\n",
              "        text-align: right;\n",
              "    }\n",
              "</style>\n",
              "<table border=\"1\" class=\"dataframe\">\n",
              "  <thead>\n",
              "    <tr style=\"text-align: right;\">\n",
              "      <th></th>\n",
              "      <th>STATION</th>\n",
              "      <th>NAME</th>\n",
              "      <th>DATE</th>\n",
              "      <th>DAPR</th>\n",
              "      <th>MDPR</th>\n",
              "      <th>PRCP</th>\n",
              "      <th>SNOW</th>\n",
              "      <th>SNWD</th>\n",
              "      <th>WESD</th>\n",
              "      <th>WESF</th>\n",
              "    </tr>\n",
              "  </thead>\n",
              "  <tbody>\n",
              "    <tr>\n",
              "      <th>1655</th>\n",
              "      <td>US1WAKG0225</td>\n",
              "      <td>SEATTLE 2.1 ESE, WA US</td>\n",
              "      <td>2022-12-29</td>\n",
              "      <td>NaN</td>\n",
              "      <td>NaN</td>\n",
              "      <td>0.03</td>\n",
              "      <td>NaN</td>\n",
              "      <td>NaN</td>\n",
              "      <td>NaN</td>\n",
              "      <td>NaN</td>\n",
              "    </tr>\n",
              "    <tr>\n",
              "      <th>1656</th>\n",
              "      <td>US1WAKG0225</td>\n",
              "      <td>SEATTLE 2.1 ESE, WA US</td>\n",
              "      <td>2022-12-30</td>\n",
              "      <td>NaN</td>\n",
              "      <td>NaN</td>\n",
              "      <td>0.62</td>\n",
              "      <td>NaN</td>\n",
              "      <td>NaN</td>\n",
              "      <td>NaN</td>\n",
              "      <td>NaN</td>\n",
              "    </tr>\n",
              "    <tr>\n",
              "      <th>1657</th>\n",
              "      <td>US1WAKG0225</td>\n",
              "      <td>SEATTLE 2.1 ESE, WA US</td>\n",
              "      <td>2022-12-31</td>\n",
              "      <td>NaN</td>\n",
              "      <td>NaN</td>\n",
              "      <td>0.17</td>\n",
              "      <td>NaN</td>\n",
              "      <td>NaN</td>\n",
              "      <td>NaN</td>\n",
              "      <td>NaN</td>\n",
              "    </tr>\n",
              "  </tbody>\n",
              "</table>\n",
              "</div>"
            ],
            "text/plain": [
              "          STATION                    NAME       DATE  DAPR  MDPR  PRCP  SNOW  \\\n",
              "1655  US1WAKG0225  SEATTLE 2.1 ESE, WA US 2022-12-29   NaN   NaN  0.03   NaN   \n",
              "1656  US1WAKG0225  SEATTLE 2.1 ESE, WA US 2022-12-30   NaN   NaN  0.62   NaN   \n",
              "1657  US1WAKG0225  SEATTLE 2.1 ESE, WA US 2022-12-31   NaN   NaN  0.17   NaN   \n",
              "\n",
              "      SNWD  WESD  WESF  \n",
              "1655   NaN   NaN   NaN  \n",
              "1656   NaN   NaN   NaN  \n",
              "1657   NaN   NaN   NaN  "
            ]
          },
          "execution_count": 26,
          "metadata": {},
          "output_type": "execute_result"
        }
      ],
      "source": [
        "df_seattle.tail(3) #Display the last 3 rows of the dataframe"
      ]
    },
    {
      "cell_type": "code",
      "execution_count": 27,
      "metadata": {
        "id": "MImmswQEqDQL"
      },
      "outputs": [
        {
          "data": {
            "text/html": [
              "<div>\n",
              "<style scoped>\n",
              "    .dataframe tbody tr th:only-of-type {\n",
              "        vertical-align: middle;\n",
              "    }\n",
              "\n",
              "    .dataframe tbody tr th {\n",
              "        vertical-align: top;\n",
              "    }\n",
              "\n",
              "    .dataframe thead th {\n",
              "        text-align: right;\n",
              "    }\n",
              "</style>\n",
              "<table border=\"1\" class=\"dataframe\">\n",
              "  <thead>\n",
              "    <tr style=\"text-align: right;\">\n",
              "      <th></th>\n",
              "      <th>STATION</th>\n",
              "      <th>NAME</th>\n",
              "      <th>DATE</th>\n",
              "      <th>PRCP</th>\n",
              "      <th>SNOW</th>\n",
              "      <th>SNWD</th>\n",
              "    </tr>\n",
              "  </thead>\n",
              "  <tbody>\n",
              "    <tr>\n",
              "      <th>0</th>\n",
              "      <td>USW00024229</td>\n",
              "      <td>PORTLAND INTERNATIONAL AIRPORT, OR US</td>\n",
              "      <td>2018-01-01</td>\n",
              "      <td>0.00</td>\n",
              "      <td>0.0</td>\n",
              "      <td>0.0</td>\n",
              "    </tr>\n",
              "    <tr>\n",
              "      <th>1</th>\n",
              "      <td>USW00024229</td>\n",
              "      <td>PORTLAND INTERNATIONAL AIRPORT, OR US</td>\n",
              "      <td>2018-01-02</td>\n",
              "      <td>0.00</td>\n",
              "      <td>0.0</td>\n",
              "      <td>0.0</td>\n",
              "    </tr>\n",
              "    <tr>\n",
              "      <th>2</th>\n",
              "      <td>USW00024229</td>\n",
              "      <td>PORTLAND INTERNATIONAL AIRPORT, OR US</td>\n",
              "      <td>2018-01-03</td>\n",
              "      <td>0.00</td>\n",
              "      <td>0.0</td>\n",
              "      <td>0.0</td>\n",
              "    </tr>\n",
              "    <tr>\n",
              "      <th>3</th>\n",
              "      <td>USW00024229</td>\n",
              "      <td>PORTLAND INTERNATIONAL AIRPORT, OR US</td>\n",
              "      <td>2018-01-04</td>\n",
              "      <td>0.05</td>\n",
              "      <td>0.0</td>\n",
              "      <td>0.0</td>\n",
              "    </tr>\n",
              "    <tr>\n",
              "      <th>4</th>\n",
              "      <td>USW00024229</td>\n",
              "      <td>PORTLAND INTERNATIONAL AIRPORT, OR US</td>\n",
              "      <td>2018-01-05</td>\n",
              "      <td>0.22</td>\n",
              "      <td>0.0</td>\n",
              "      <td>0.0</td>\n",
              "    </tr>\n",
              "  </tbody>\n",
              "</table>\n",
              "</div>"
            ],
            "text/plain": [
              "       STATION                                   NAME       DATE  PRCP  SNOW  \\\n",
              "0  USW00024229  PORTLAND INTERNATIONAL AIRPORT, OR US 2018-01-01  0.00   0.0   \n",
              "1  USW00024229  PORTLAND INTERNATIONAL AIRPORT, OR US 2018-01-02  0.00   0.0   \n",
              "2  USW00024229  PORTLAND INTERNATIONAL AIRPORT, OR US 2018-01-03  0.00   0.0   \n",
              "3  USW00024229  PORTLAND INTERNATIONAL AIRPORT, OR US 2018-01-04  0.05   0.0   \n",
              "4  USW00024229  PORTLAND INTERNATIONAL AIRPORT, OR US 2018-01-05  0.22   0.0   \n",
              "\n",
              "   SNWD  \n",
              "0   0.0  \n",
              "1   0.0  \n",
              "2   0.0  \n",
              "3   0.0  \n",
              "4   0.0  "
            ]
          },
          "execution_count": 27,
          "metadata": {},
          "output_type": "execute_result"
        }
      ],
      "source": [
        "df_portland.head()"
      ]
    },
    {
      "cell_type": "markdown",
      "metadata": {
        "id": "BkCnFJdVryvv"
      },
      "source": [
        "## Join data frames keeping `DATE` and `PRCP` columns"
      ]
    },
    {
      "cell_type": "markdown",
      "metadata": {
        "id": "zPNbKGC1JDkp"
      },
      "source": [
        "##### Use a join to keep all dates present"
      ]
    },
    {
      "cell_type": "code",
      "execution_count": 28,
      "metadata": {},
      "outputs": [
        {
          "data": {
            "text/html": [
              "<div>\n",
              "<style scoped>\n",
              "    .dataframe tbody tr th:only-of-type {\n",
              "        vertical-align: middle;\n",
              "    }\n",
              "\n",
              "    .dataframe tbody tr th {\n",
              "        vertical-align: top;\n",
              "    }\n",
              "\n",
              "    .dataframe thead th {\n",
              "        text-align: right;\n",
              "    }\n",
              "</style>\n",
              "<table border=\"1\" class=\"dataframe\">\n",
              "  <thead>\n",
              "    <tr style=\"text-align: right;\">\n",
              "      <th></th>\n",
              "      <th>DATE</th>\n",
              "      <th>PRCP_x</th>\n",
              "      <th>PRCP_y</th>\n",
              "    </tr>\n",
              "  </thead>\n",
              "  <tbody>\n",
              "    <tr>\n",
              "      <th>0</th>\n",
              "      <td>2018-01-01</td>\n",
              "      <td>0.00</td>\n",
              "      <td>0.00</td>\n",
              "    </tr>\n",
              "    <tr>\n",
              "      <th>1</th>\n",
              "      <td>2018-01-02</td>\n",
              "      <td>0.00</td>\n",
              "      <td>0.00</td>\n",
              "    </tr>\n",
              "    <tr>\n",
              "      <th>2</th>\n",
              "      <td>2018-01-03</td>\n",
              "      <td>0.00</td>\n",
              "      <td>0.00</td>\n",
              "    </tr>\n",
              "    <tr>\n",
              "      <th>3</th>\n",
              "      <td>2018-01-04</td>\n",
              "      <td>0.05</td>\n",
              "      <td>0.00</td>\n",
              "    </tr>\n",
              "    <tr>\n",
              "      <th>4</th>\n",
              "      <td>2018-01-05</td>\n",
              "      <td>0.22</td>\n",
              "      <td>0.25</td>\n",
              "    </tr>\n",
              "    <tr>\n",
              "      <th>...</th>\n",
              "      <td>...</td>\n",
              "      <td>...</td>\n",
              "      <td>...</td>\n",
              "    </tr>\n",
              "    <tr>\n",
              "      <th>1821</th>\n",
              "      <td>2022-12-27</td>\n",
              "      <td>1.21</td>\n",
              "      <td>0.78</td>\n",
              "    </tr>\n",
              "    <tr>\n",
              "      <th>1822</th>\n",
              "      <td>2022-12-28</td>\n",
              "      <td>0.00</td>\n",
              "      <td>0.40</td>\n",
              "    </tr>\n",
              "    <tr>\n",
              "      <th>1823</th>\n",
              "      <td>2022-12-29</td>\n",
              "      <td>0.53</td>\n",
              "      <td>0.03</td>\n",
              "    </tr>\n",
              "    <tr>\n",
              "      <th>1824</th>\n",
              "      <td>2022-12-30</td>\n",
              "      <td>0.30</td>\n",
              "      <td>0.62</td>\n",
              "    </tr>\n",
              "    <tr>\n",
              "      <th>1825</th>\n",
              "      <td>2022-12-31</td>\n",
              "      <td>0.10</td>\n",
              "      <td>0.17</td>\n",
              "    </tr>\n",
              "  </tbody>\n",
              "</table>\n",
              "<p>1826 rows × 3 columns</p>\n",
              "</div>"
            ],
            "text/plain": [
              "           DATE  PRCP_x  PRCP_y\n",
              "0    2018-01-01    0.00    0.00\n",
              "1    2018-01-02    0.00    0.00\n",
              "2    2018-01-03    0.00    0.00\n",
              "3    2018-01-04    0.05    0.00\n",
              "4    2018-01-05    0.22    0.25\n",
              "...         ...     ...     ...\n",
              "1821 2022-12-27    1.21    0.78\n",
              "1822 2022-12-28    0.00    0.40\n",
              "1823 2022-12-29    0.53    0.03\n",
              "1824 2022-12-30    0.30    0.62\n",
              "1825 2022-12-31    0.10    0.17\n",
              "\n",
              "[1826 rows x 3 columns]"
            ]
          },
          "execution_count": 28,
          "metadata": {},
          "output_type": "execute_result"
        }
      ],
      "source": [
        "\n",
        "df=df_portland[['DATE','PRCP']].merge(df_seattle[['DATE','PRCP']],on=\"DATE\",how=\"outer\") #Merge the Portland and Seattle dataframes on the DATE column\n",
        "df"
      ]
    },
    {
      "cell_type": "markdown",
      "metadata": {
        "id": "TklEWrlhsEiQ"
      },
      "source": [
        "### Create a tidy data frame with columns for city and precipitation"
      ]
    },
    {
      "cell_type": "code",
      "execution_count": 29,
      "metadata": {},
      "outputs": [
        {
          "data": {
            "text/html": [
              "<div>\n",
              "<style scoped>\n",
              "    .dataframe tbody tr th:only-of-type {\n",
              "        vertical-align: middle;\n",
              "    }\n",
              "\n",
              "    .dataframe tbody tr th {\n",
              "        vertical-align: top;\n",
              "    }\n",
              "\n",
              "    .dataframe thead th {\n",
              "        text-align: right;\n",
              "    }\n",
              "</style>\n",
              "<table border=\"1\" class=\"dataframe\">\n",
              "  <thead>\n",
              "    <tr style=\"text-align: right;\">\n",
              "      <th></th>\n",
              "      <th>DATE</th>\n",
              "      <th>city</th>\n",
              "      <th>precipitation</th>\n",
              "    </tr>\n",
              "  </thead>\n",
              "  <tbody>\n",
              "    <tr>\n",
              "      <th>0</th>\n",
              "      <td>2018-01-01</td>\n",
              "      <td>PRCP_x</td>\n",
              "      <td>0.00</td>\n",
              "    </tr>\n",
              "    <tr>\n",
              "      <th>1</th>\n",
              "      <td>2018-01-02</td>\n",
              "      <td>PRCP_x</td>\n",
              "      <td>0.00</td>\n",
              "    </tr>\n",
              "    <tr>\n",
              "      <th>2</th>\n",
              "      <td>2018-01-03</td>\n",
              "      <td>PRCP_x</td>\n",
              "      <td>0.00</td>\n",
              "    </tr>\n",
              "    <tr>\n",
              "      <th>3</th>\n",
              "      <td>2018-01-04</td>\n",
              "      <td>PRCP_x</td>\n",
              "      <td>0.05</td>\n",
              "    </tr>\n",
              "    <tr>\n",
              "      <th>4</th>\n",
              "      <td>2018-01-05</td>\n",
              "      <td>PRCP_x</td>\n",
              "      <td>0.22</td>\n",
              "    </tr>\n",
              "    <tr>\n",
              "      <th>...</th>\n",
              "      <td>...</td>\n",
              "      <td>...</td>\n",
              "      <td>...</td>\n",
              "    </tr>\n",
              "    <tr>\n",
              "      <th>3647</th>\n",
              "      <td>2022-12-27</td>\n",
              "      <td>PRCP_y</td>\n",
              "      <td>0.78</td>\n",
              "    </tr>\n",
              "    <tr>\n",
              "      <th>3648</th>\n",
              "      <td>2022-12-28</td>\n",
              "      <td>PRCP_y</td>\n",
              "      <td>0.40</td>\n",
              "    </tr>\n",
              "    <tr>\n",
              "      <th>3649</th>\n",
              "      <td>2022-12-29</td>\n",
              "      <td>PRCP_y</td>\n",
              "      <td>0.03</td>\n",
              "    </tr>\n",
              "    <tr>\n",
              "      <th>3650</th>\n",
              "      <td>2022-12-30</td>\n",
              "      <td>PRCP_y</td>\n",
              "      <td>0.62</td>\n",
              "    </tr>\n",
              "    <tr>\n",
              "      <th>3651</th>\n",
              "      <td>2022-12-31</td>\n",
              "      <td>PRCP_y</td>\n",
              "      <td>0.17</td>\n",
              "    </tr>\n",
              "  </tbody>\n",
              "</table>\n",
              "<p>3652 rows × 3 columns</p>\n",
              "</div>"
            ],
            "text/plain": [
              "           DATE    city  precipitation\n",
              "0    2018-01-01  PRCP_x           0.00\n",
              "1    2018-01-02  PRCP_x           0.00\n",
              "2    2018-01-03  PRCP_x           0.00\n",
              "3    2018-01-04  PRCP_x           0.05\n",
              "4    2018-01-05  PRCP_x           0.22\n",
              "...         ...     ...            ...\n",
              "3647 2022-12-27  PRCP_y           0.78\n",
              "3648 2022-12-28  PRCP_y           0.40\n",
              "3649 2022-12-29  PRCP_y           0.03\n",
              "3650 2022-12-30  PRCP_y           0.62\n",
              "3651 2022-12-31  PRCP_y           0.17\n",
              "\n",
              "[3652 rows x 3 columns]"
            ]
          },
          "execution_count": 29,
          "metadata": {},
          "output_type": "execute_result"
        }
      ],
      "source": [
        "df=pd.melt(df,id_vars='DATE',var_name='city',value_name='precipitation')#  Tranforming the merged dataframe to tidy data frame\n",
        "df"
      ]
    },
    {
      "cell_type": "markdown",
      "metadata": {
        "id": "5PNjVV4QgOuz"
      },
      "source": [
        "How did this change the DataFrame?"
      ]
    },
    {
      "cell_type": "code",
      "execution_count": 30,
      "metadata": {
        "id": "AFStfLoNmf-I"
      },
      "outputs": [
        {
          "data": {
            "text/html": [
              "<div>\n",
              "<style scoped>\n",
              "    .dataframe tbody tr th:only-of-type {\n",
              "        vertical-align: middle;\n",
              "    }\n",
              "\n",
              "    .dataframe tbody tr th {\n",
              "        vertical-align: top;\n",
              "    }\n",
              "\n",
              "    .dataframe thead th {\n",
              "        text-align: right;\n",
              "    }\n",
              "</style>\n",
              "<table border=\"1\" class=\"dataframe\">\n",
              "  <thead>\n",
              "    <tr style=\"text-align: right;\">\n",
              "      <th></th>\n",
              "      <th>DATE</th>\n",
              "      <th>city</th>\n",
              "      <th>precipitation</th>\n",
              "    </tr>\n",
              "  </thead>\n",
              "  <tbody>\n",
              "    <tr>\n",
              "      <th>0</th>\n",
              "      <td>2018-01-01</td>\n",
              "      <td>PRCP_x</td>\n",
              "      <td>0.00</td>\n",
              "    </tr>\n",
              "    <tr>\n",
              "      <th>1</th>\n",
              "      <td>2018-01-02</td>\n",
              "      <td>PRCP_x</td>\n",
              "      <td>0.00</td>\n",
              "    </tr>\n",
              "    <tr>\n",
              "      <th>2</th>\n",
              "      <td>2018-01-03</td>\n",
              "      <td>PRCP_x</td>\n",
              "      <td>0.00</td>\n",
              "    </tr>\n",
              "    <tr>\n",
              "      <th>3</th>\n",
              "      <td>2018-01-04</td>\n",
              "      <td>PRCP_x</td>\n",
              "      <td>0.05</td>\n",
              "    </tr>\n",
              "    <tr>\n",
              "      <th>4</th>\n",
              "      <td>2018-01-05</td>\n",
              "      <td>PRCP_x</td>\n",
              "      <td>0.22</td>\n",
              "    </tr>\n",
              "  </tbody>\n",
              "</table>\n",
              "</div>"
            ],
            "text/plain": [
              "        DATE    city  precipitation\n",
              "0 2018-01-01  PRCP_x           0.00\n",
              "1 2018-01-02  PRCP_x           0.00\n",
              "2 2018-01-03  PRCP_x           0.00\n",
              "3 2018-01-04  PRCP_x           0.05\n",
              "4 2018-01-05  PRCP_x           0.22"
            ]
          },
          "execution_count": 30,
          "metadata": {},
          "output_type": "execute_result"
        }
      ],
      "source": [
        "df.head()"
      ]
    },
    {
      "cell_type": "markdown",
      "metadata": {
        "id": "Au8SCopULgXT"
      },
      "source": [
        "Rename the city values 'PORT' and 'SEA'"
      ]
    },
    {
      "cell_type": "code",
      "execution_count": 31,
      "metadata": {},
      "outputs": [],
      "source": [
        "df.loc[df['city']=='PRCP_x','city']='PORT'# Rename the city values for Portland\n",
        "df.loc[df['city']=='PRCP_y','city']='SEA' # Rename the city values for Seattle"
      ]
    },
    {
      "cell_type": "markdown",
      "metadata": {
        "id": "KzbDZf1d4BpT"
      },
      "source": [
        "##### Rename the columns to be lowercase using `df.rename()`"
      ]
    },
    {
      "cell_type": "code",
      "execution_count": 32,
      "metadata": {},
      "outputs": [
        {
          "data": {
            "text/html": [
              "<div>\n",
              "<style scoped>\n",
              "    .dataframe tbody tr th:only-of-type {\n",
              "        vertical-align: middle;\n",
              "    }\n",
              "\n",
              "    .dataframe tbody tr th {\n",
              "        vertical-align: top;\n",
              "    }\n",
              "\n",
              "    .dataframe thead th {\n",
              "        text-align: right;\n",
              "    }\n",
              "</style>\n",
              "<table border=\"1\" class=\"dataframe\">\n",
              "  <thead>\n",
              "    <tr style=\"text-align: right;\">\n",
              "      <th></th>\n",
              "      <th>date</th>\n",
              "      <th>city</th>\n",
              "      <th>precipitation</th>\n",
              "    </tr>\n",
              "  </thead>\n",
              "  <tbody>\n",
              "    <tr>\n",
              "      <th>0</th>\n",
              "      <td>2018-01-01</td>\n",
              "      <td>PORT</td>\n",
              "      <td>0.00</td>\n",
              "    </tr>\n",
              "    <tr>\n",
              "      <th>1</th>\n",
              "      <td>2018-01-02</td>\n",
              "      <td>PORT</td>\n",
              "      <td>0.00</td>\n",
              "    </tr>\n",
              "    <tr>\n",
              "      <th>2</th>\n",
              "      <td>2018-01-03</td>\n",
              "      <td>PORT</td>\n",
              "      <td>0.00</td>\n",
              "    </tr>\n",
              "    <tr>\n",
              "      <th>3</th>\n",
              "      <td>2018-01-04</td>\n",
              "      <td>PORT</td>\n",
              "      <td>0.05</td>\n",
              "    </tr>\n",
              "    <tr>\n",
              "      <th>4</th>\n",
              "      <td>2018-01-05</td>\n",
              "      <td>PORT</td>\n",
              "      <td>0.22</td>\n",
              "    </tr>\n",
              "    <tr>\n",
              "      <th>...</th>\n",
              "      <td>...</td>\n",
              "      <td>...</td>\n",
              "      <td>...</td>\n",
              "    </tr>\n",
              "    <tr>\n",
              "      <th>3647</th>\n",
              "      <td>2022-12-27</td>\n",
              "      <td>SEA</td>\n",
              "      <td>0.78</td>\n",
              "    </tr>\n",
              "    <tr>\n",
              "      <th>3648</th>\n",
              "      <td>2022-12-28</td>\n",
              "      <td>SEA</td>\n",
              "      <td>0.40</td>\n",
              "    </tr>\n",
              "    <tr>\n",
              "      <th>3649</th>\n",
              "      <td>2022-12-29</td>\n",
              "      <td>SEA</td>\n",
              "      <td>0.03</td>\n",
              "    </tr>\n",
              "    <tr>\n",
              "      <th>3650</th>\n",
              "      <td>2022-12-30</td>\n",
              "      <td>SEA</td>\n",
              "      <td>0.62</td>\n",
              "    </tr>\n",
              "    <tr>\n",
              "      <th>3651</th>\n",
              "      <td>2022-12-31</td>\n",
              "      <td>SEA</td>\n",
              "      <td>0.17</td>\n",
              "    </tr>\n",
              "  </tbody>\n",
              "</table>\n",
              "<p>3652 rows × 3 columns</p>\n",
              "</div>"
            ],
            "text/plain": [
              "           date  city  precipitation\n",
              "0    2018-01-01  PORT           0.00\n",
              "1    2018-01-02  PORT           0.00\n",
              "2    2018-01-03  PORT           0.00\n",
              "3    2018-01-04  PORT           0.05\n",
              "4    2018-01-05  PORT           0.22\n",
              "...         ...   ...            ...\n",
              "3647 2022-12-27   SEA           0.78\n",
              "3648 2022-12-28   SEA           0.40\n",
              "3649 2022-12-29   SEA           0.03\n",
              "3650 2022-12-30   SEA           0.62\n",
              "3651 2022-12-31   SEA           0.17\n",
              "\n",
              "[3652 rows x 3 columns]"
            ]
          },
          "execution_count": 32,
          "metadata": {},
          "output_type": "execute_result"
        }
      ],
      "source": [
        "df = df.rename(columns=str.lower)\n",
        "df"
      ]
    },
    {
      "cell_type": "markdown",
      "metadata": {
        "id": "aAaUY6N1rtoa"
      },
      "source": [
        "## Identify and fill in missing values"
      ]
    },
    {
      "cell_type": "markdown",
      "metadata": {
        "id": "Q1rA_SSUPyUT"
      },
      "source": [
        "Determine the number of non-null values in each column."
      ]
    },
    {
      "cell_type": "code",
      "execution_count": 33,
      "metadata": {},
      "outputs": [
        {
          "data": {
            "text/plain": [
              "date             3652\n",
              "city             3652\n",
              "precipitation    3462\n",
              "dtype: int64"
            ]
          },
          "execution_count": 33,
          "metadata": {},
          "output_type": "execute_result"
        }
      ],
      "source": [
        "df.count()"
      ]
    },
    {
      "cell_type": "markdown",
      "metadata": {
        "id": "9rgs-UvovTga"
      },
      "source": [
        "##### Determine the number of null values in each column."
      ]
    },
    {
      "cell_type": "code",
      "execution_count": 34,
      "metadata": {},
      "outputs": [
        {
          "data": {
            "text/plain": [
              "date               0\n",
              "city               0\n",
              "precipitation    190\n",
              "dtype: int64"
            ]
          },
          "execution_count": 34,
          "metadata": {},
          "output_type": "execute_result"
        }
      ],
      "source": [
        "df.isna().sum()"
      ]
    },
    {
      "cell_type": "markdown",
      "metadata": {
        "id": "ceiU_nolviBn"
      },
      "source": [
        "##### Determine the number of null precipitation values for Seattle and Portland"
      ]
    },
    {
      "cell_type": "code",
      "execution_count": 35,
      "metadata": {},
      "outputs": [
        {
          "data": {
            "text/plain": [
              "190"
            ]
          },
          "execution_count": 35,
          "metadata": {},
          "output_type": "execute_result"
        }
      ],
      "source": [
        "df[\"precipitation\"].isna().sum() #  Count the null values in the precipitation column"
      ]
    },
    {
      "cell_type": "code",
      "execution_count": 36,
      "metadata": {},
      "outputs": [
        {
          "data": {
            "text/plain": [
              "0"
            ]
          },
          "execution_count": 36,
          "metadata": {},
          "output_type": "execute_result"
        }
      ],
      "source": [
        "df.loc[df['city']=='PORT','precipitation'].isna().sum() # Count the null values in the precipitation column for Portland"
      ]
    },
    {
      "cell_type": "code",
      "execution_count": 37,
      "metadata": {},
      "outputs": [
        {
          "data": {
            "text/plain": [
              "190"
            ]
          },
          "execution_count": 37,
          "metadata": {},
          "output_type": "execute_result"
        }
      ],
      "source": [
        "df.loc[df['city']=='SEA','precipitation'].isna().sum() # Count the null values in the precipitation column for Seattle"
      ]
    },
    {
      "cell_type": "markdown",
      "metadata": {
        "id": "7W_iTvjbXx8_"
      },
      "source": [
        "### Impute missing values"
      ]
    },
    {
      "cell_type": "markdown",
      "metadata": {
        "id": "3OTbPI91dMOB"
      },
      "source": [
        "We will replace missing values with the mean across years of values on that day.\n",
        "\n",
        "\n",
        "**Design an algorithm for replacing missing values with the mean across years of values on that day.**"
      ]
    },
    {
      "cell_type": "code",
      "execution_count": 38,
      "metadata": {},
      "outputs": [
        {
          "data": {
            "text/html": [
              "<div>\n",
              "<style scoped>\n",
              "    .dataframe tbody tr th:only-of-type {\n",
              "        vertical-align: middle;\n",
              "    }\n",
              "\n",
              "    .dataframe tbody tr th {\n",
              "        vertical-align: top;\n",
              "    }\n",
              "\n",
              "    .dataframe thead th {\n",
              "        text-align: right;\n",
              "    }\n",
              "</style>\n",
              "<table border=\"1\" class=\"dataframe\">\n",
              "  <thead>\n",
              "    <tr style=\"text-align: right;\">\n",
              "      <th></th>\n",
              "      <th>date</th>\n",
              "      <th>city</th>\n",
              "      <th>precipitation</th>\n",
              "      <th>day_of_year</th>\n",
              "    </tr>\n",
              "  </thead>\n",
              "  <tbody>\n",
              "    <tr>\n",
              "      <th>0</th>\n",
              "      <td>2018-01-01</td>\n",
              "      <td>PORT</td>\n",
              "      <td>0.00</td>\n",
              "      <td>1</td>\n",
              "    </tr>\n",
              "    <tr>\n",
              "      <th>1</th>\n",
              "      <td>2018-01-02</td>\n",
              "      <td>PORT</td>\n",
              "      <td>0.00</td>\n",
              "      <td>2</td>\n",
              "    </tr>\n",
              "    <tr>\n",
              "      <th>2</th>\n",
              "      <td>2018-01-03</td>\n",
              "      <td>PORT</td>\n",
              "      <td>0.00</td>\n",
              "      <td>3</td>\n",
              "    </tr>\n",
              "    <tr>\n",
              "      <th>3</th>\n",
              "      <td>2018-01-04</td>\n",
              "      <td>PORT</td>\n",
              "      <td>0.05</td>\n",
              "      <td>4</td>\n",
              "    </tr>\n",
              "    <tr>\n",
              "      <th>4</th>\n",
              "      <td>2018-01-05</td>\n",
              "      <td>PORT</td>\n",
              "      <td>0.22</td>\n",
              "      <td>5</td>\n",
              "    </tr>\n",
              "  </tbody>\n",
              "</table>\n",
              "</div>"
            ],
            "text/plain": [
              "        date  city  precipitation  day_of_year\n",
              "0 2018-01-01  PORT           0.00            1\n",
              "1 2018-01-02  PORT           0.00            2\n",
              "2 2018-01-03  PORT           0.00            3\n",
              "3 2018-01-04  PORT           0.05            4\n",
              "4 2018-01-05  PORT           0.22            5"
            ]
          },
          "execution_count": 38,
          "metadata": {},
          "output_type": "execute_result"
        }
      ],
      "source": [
        "df['day_of_year']=pd.DatetimeIndex(df['date']).dayofyear #Create a new column for the day of the year\n",
        "df.head()"
      ]
    },
    {
      "cell_type": "code",
      "execution_count": 39,
      "metadata": {},
      "outputs": [],
      "source": [
        "mean_precipitation = df.loc[\n",
        "    df['city']=='SEA',\n",
        "    ['precipitation','day_of_year']\n",
        "].groupby('day_of_year').mean() #Calculate the mean precipitation for each day of the year for Seattle\n",
        "\n",
        " "
      ]
    },
    {
      "cell_type": "code",
      "execution_count": 40,
      "metadata": {},
      "outputs": [
        {
          "data": {
            "image/png": "[encoded data removed]",
            "text/plain": [
              "<Figure size 2000x500 with 1 Axes>"
            ]
          },
          "metadata": {},
          "output_type": "display_data"
        }
      ],
      "source": [
        "plt.figure(figsize=(20,5))\n",
        "sns.lineplot(data=mean_precipitation,x=\"day_of_year\",y=\"precipitation\")\n",
        "plt.xlabel(\"Day of Year\")\n",
        "plt.ylabel(\"Precipitation (inches)\") \n",
        "plt.tick_params(labelsize=15)\n",
        "plt.show()"
      ]
    },
    {
      "cell_type": "code",
      "execution_count": 41,
      "metadata": {},
      "outputs": [
        {
          "data": {
            "text/plain": [
              "0       False\n",
              "1       False\n",
              "2       False\n",
              "3       False\n",
              "4       False\n",
              "        ...  \n",
              "3647    False\n",
              "3648    False\n",
              "3649    False\n",
              "3650    False\n",
              "3651    False\n",
              "Name: precipitation, Length: 3652, dtype: bool"
            ]
          },
          "execution_count": 41,
          "metadata": {},
          "output_type": "execute_result"
        }
      ],
      "source": [
        "df['precipitation'].isna()==True #check for null values in the precipitation column"
      ]
    },
    {
      "cell_type": "code",
      "execution_count": 42,
      "metadata": {},
      "outputs": [],
      "source": [
        "indices=np.where(df['precipitation'].isna()==True)[0] #Get the indices of the rows with null values in the precipitation column"
      ]
    },
    {
      "cell_type": "code",
      "execution_count": 43,
      "metadata": {},
      "outputs": [],
      "source": [
        "# Replace the null values in precipitation to the mean values\n",
        "\n",
        "for index in indices:   \n",
        "        df.loc[index,'precipitation']=mean_precipitation.loc[df.loc[index,'day_of_year']].values[0] "
      ]
    },
    {
      "cell_type": "code",
      "execution_count": 44,
      "metadata": {},
      "outputs": [
        {
          "data": {
            "text/plain": [
              "date             0\n",
              "city             0\n",
              "precipitation    0\n",
              "day_of_year      0\n",
              "dtype: int64"
            ]
          },
          "execution_count": 44,
          "metadata": {},
          "output_type": "execute_result"
        }
      ],
      "source": [
        "df.isna().sum() #Check for null values in the dataframe"
      ]
    },
    {
      "cell_type": "markdown",
      "metadata": {
        "id": "oKGHtonZsZCM"
      },
      "source": [
        "## Export the clean .csv file"
      ]
    },
    {
      "cell_type": "code",
      "execution_count": 45,
      "metadata": {
        "id": "EqBz9TkxKp5-"
      },
      "outputs": [],
      "source": [
        "df.to_csv('../data/clean_seattle_portland_weather.csv', encoding='utf-8-sig', index=False)#  Save the cleaned dataframe to a CSV file"
      ]
    }
  ],
  "metadata": {
    "colab": {
      "provenance": [],
      "toc_visible": true
    },
    "kernelspec": {
      "display_name": "base",
      "language": "python",
      "name": "python3"
    },
    "language_info": {
      "codemirror_mode": {
        "name": "ipython",
        "version": 3
      },
      "file_extension": ".py",
      "mimetype": "text/x-python",
      "name": "python",
      "nbconvert_exporter": "python",
      "pygments_lexer": "ipython3",
      "version": "3.12.7"
    }
  },
  "nbformat": 4,
  "nbformat_minor": 0
}
